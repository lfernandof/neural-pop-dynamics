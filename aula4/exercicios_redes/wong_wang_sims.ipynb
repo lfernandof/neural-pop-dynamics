{
 "cells": [
  {
   "cell_type": "markdown",
   "id": "dde29fca",
   "metadata": {},
   "source": [
    "# The reduced decision making model by Wong-Wang\n",
    "The equations and parameters are described in the body, appendix and supplementary materials of the following paper:\n",
    "\n",
    "<i>Wong, Kong-Fatt and Xiao-Jing Wang.</i> <b>\"A recurrent network mechanism  of time integration in perceptual decisions\"</b>. Journal of Neuroscience 26, no. 4 (2006)"
   ]
  },
  {
   "cell_type": "code",
   "execution_count": null,
   "id": "6f5730c2",
   "metadata": {},
   "outputs": [],
   "source": [
    "import random\n",
    "\n",
    "#Parameters\n",
    "mu_0 = 0 #input strength; motion strength\n",
    "c = 0 #input coherence\n",
    "\n",
    "#Parameters to the input-output function\n",
    "a = 270 #[(VnC)^{-1}]\n",
    "b = 108 #[Hz]\n",
    "d = 0.154 #[s]\n",
    "\n",
    "#Kinetic parameters\n",
    "g = 0.641 #dimensionless, called gamma in the paper\n",
    "tau_S = 100 #[ms]\n",
    "tau_AMPA = 2 #[ms]\n",
    "\n",
    "#Synaptic coupling (population autapses {11,22} and between populations {21,12})\n",
    "#JN11 = 0.2609\n",
    "#JN22 = 0.2609\n",
    "self_coupling = 0.2609\n",
    "#JN21 = 0.0497\n",
    "#JN12 = 0.0497\n",
    "outer_coupling = 0.0497\n",
    "couplings = [self_coupling,outer_coupling]\n",
    "\n",
    "#Inputs from other sources (inhibitory and neutral populations: JA_ext; external: I0)\n",
    "JA_ext = 5.2e-4\n",
    "I0 = 0.3255\n",
    "\n",
    "#Simulation noise\n",
    "s_noise=0\n",
    "\n",
    "#Single-cell input-output relation [Appendix & Supplementary material D]\n",
    "def input_output_relation(state,a=270,b=108,d=0.154):\n",
    "    return (a*state - b)/(1-np.exp(-d*(a*state - b)))\n",
    "#H(x) = (a * x - b) / (1 - exp(-d*(a * x - b)))\n",
    "\n",
    "#Visual motion stimulus to to the i-th {1,2} population \n",
    "I1 = JA_ext * mu_0 * (1 + c/100)\n",
    "I2 = JA_ext * mu_0 * (1 - c/100)\n",
    "\n",
    "#Initial activity (firing rate) of each population\n",
    "S1 = 1.1\n",
    "S2 = 1.1\n",
    "current_noise = np.zeros(2)\n",
    "\n",
    "#Noisy sources from each ionic channel \n",
    "def noisy_channel(noises,tau_AMPA = 2, s_noise=0.05):\n",
    "    #a two-dimensional array of noisy displacements for the current run\n",
    "    eta =  np.random.rand(2,1) * np.sqrt(tau_AMPA * s_noise ** 2)\n",
    "    #Inoise1' = -Inoise1 + eta1 * sqrt(tau_AMPA * s_noise^2)\n",
    "    #Inoise2' = -Inoise2 + eta2 * sqrt(tau_AMPA * s_noise^2)\n",
    "    return sum(-noises,eta) #[ionic_noises]\n",
    "\n",
    "#Summing contributions to the hidden state (x) of each population\n",
    "#x1 = JN11 * S1 - JN12 * S2 + I0 + I1 + Inoise1\n",
    "#x2 = JN22 * S2 - JN21 * S1 + I0 + I2 + Inoise2\n",
    "\n",
    "def build_hidden_states(couplings,population_activities,inputs,ionic_noises,external_sources = I0):\n",
    "    #returns a 2x1 array, each element being the hidden state activity (firing rate) of one excitatory population\n",
    "    return couplings @ population_activities + external_sources + inputs + ionic_noises #[hidden_states]\n",
    "\n",
    "#yet to port/solve\n",
    "\n",
    "#these two will become the function below\n",
    "#S1' = -S1/tau_S + (1 - S1) * g * H(x1)/1000\n",
    "#S2' = -S2/tau_S + (1 - S2) * g * H(x2)/1000\n",
    "\n",
    "def population_states(hidden_states,population_activities,g,tau_S = 100):\n",
    "    return -population_activities/tau_S + (np.ones(2) - population_activities) * g * input_output_relation(hidden_states)/1000"
   ]
  },
  {
   "cell_type": "code",
   "execution_count": null,
   "id": "00ab6d6c",
   "metadata": {},
   "outputs": [],
   "source": []
  },
  {
   "cell_type": "code",
   "execution_count": 105,
   "id": "8a8399d4",
   "metadata": {},
   "outputs": [],
   "source": [
    "#xpp former parameters\n",
    "#@ dt=0.1\n",
    "#@ xp=S1,yp=S2,xlo=-0.1,ylo=-0.1,xhi=1.1,yhi=1.1,total=10000"
   ]
  }
 ],
 "metadata": {
  "kernelspec": {
   "display_name": "Python 3 (ipykernel)",
   "language": "python",
   "name": "python3"
  },
  "language_info": {
   "codemirror_mode": {
    "name": "ipython",
    "version": 3
   },
   "file_extension": ".py",
   "mimetype": "text/x-python",
   "name": "python",
   "nbconvert_exporter": "python",
   "pygments_lexer": "ipython3",
   "version": "3.8.10"
  }
 },
 "nbformat": 4,
 "nbformat_minor": 5
}
