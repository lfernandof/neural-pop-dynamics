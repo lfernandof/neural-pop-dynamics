{
 "cells": [
  {
   "cell_type": "code",
   "execution_count": 248,
   "id": "3f69b567",
   "metadata": {},
   "outputs": [],
   "source": [
    "import pandas as pd\n",
    "import numpy as np\n",
    "import matplotlib.pyplot as plt\n",
    "from scipy import stats"
   ]
  },
  {
   "cell_type": "code",
   "execution_count": 313,
   "id": "480c0155",
   "metadata": {},
   "outputs": [],
   "source": [
    "def time_conversion(dataset,column,conversion_factor=0.001):\n",
    "    '''Converts the timestamps in the dataset from ms to seconds (0.001)'''\n",
    "    dataset[column] = dataset[column]*conversion_factor\n",
    "    return dataset\n",
    "\n",
    "def start_interval_from_zero(dataset):\n",
    "    '''Subtracts the first timestamp value from all timestamps, so spike times begin from zero onward'''\n",
    "    new_zero = dataset['timestamp'].min()\n",
    "    dataset['timestamp'] = dataset['timestamp'].apply(lambda x: x - new_zero)\n",
    "    return dataset\n",
    "\n",
    "def number_of_trials(behaviour_dataset):\n",
    "    '''Returns the number of trials for a given session\n",
    "    \n",
    "    INPUT: a Pandas DataFrame containing the data from the Behavior.dat file of the corresponding session\n",
    "    OUTPUT: the number of trials\n",
    "    '''\n",
    "    return len(behaviour_dataset)\n",
    "\n",
    "def trials_begin_end(behaviour_dataset):\n",
    "    '''Returns the number of trials for a given session\n",
    "    \n",
    "    INPUT: a Pandas DataFrame containing the data from the Behavior.dat file of the corresponding session\n",
    "    OUTPUT: a list of tuples (trial_start,trial_end)\n",
    "    '''\n",
    "    n_trials = number_of_trials(behaviour_dataset)\n",
    "    boundaries = []\n",
    "    for trial in range(n_trials):\n",
    "        lower_boundary = behaviour_dataset.iloc[trial].trial_start\n",
    "        upper_boundary = behaviour_dataset.iloc[trial].trial_end\n",
    "        boundaries.append((lower_boundary,upper_boundary))\n",
    "    return boundaries\n",
    "\n",
    "def spikes_in_interval(dataset,interval_start,interval_end):\n",
    "    '''Returns all spikes in the dataset whose timestamps lay between the interval start and end boundaries\n",
    "    \n",
    "    INPUT: a Pandas DataFrame containing the spike data from the SpikeData.dat file of the corresponding session\n",
    "    and the time boundaries that define the interval\n",
    "    OUTPUT: a Pandas DataFrame containing the subset of spikes_dataset whose timestamps lie within the boundaries\n",
    "    '''\n",
    "    return dataset.loc[(dataset['timestamp'] >= interval_start) &\n",
    "                       (dataset['timestamp'] <= interval_end)]\n",
    "\n",
    "def separate_into_trials(behaviour_dataset,spikes_dataset):\n",
    "    '''Splits the spikes_dataset into a list whose elements correspond to the spikes in each trial in the session\n",
    "    \n",
    "    INPUT: a Pandas DataFrame containing the data from the Behavior.dat file of the corresponding session and a\n",
    "    Pandas DataFrame containing the spike data from the accompanying SpikeData.dat\n",
    "    OUTPUT: a list in which each element is a  Pandas DataFrame containing the subset of spikes_dataset\n",
    "    whose timestamps lie within the boundaries of each trial\n",
    "    '''\n",
    "    trials = []\n",
    "    time_boundaries = trials_begin_end(behaviour_dataset)\n",
    "    \n",
    "    for trial in range(number_of_trials(behaviour_dataset)):\n",
    "        trial_spikes = spikes_in_interval(spikes_dataset,time_boundaries[trial][0],time_boundaries[trial][1])\n",
    "        #trial_spikes = start_interval_from_zero(trial_spikes)\n",
    "        trials.append(trial_spikes)\n",
    "    \n",
    "    return trials\n",
    "\n",
    "def build_ITIs(behaviour_dataset,spikes_dataset):\n",
    "    '''Splits the spikes_dataset into a list whose elements correspond to the spikes in each ITI in the session\n",
    "    \n",
    "    INPUT: a Pandas DataFrame containing the data from the Behavior.dat file of the corresponding session and a\n",
    "    Pandas DataFrame containing the spike data from the accompanying SpikeData.dat\n",
    "    OUTPUT: a list in which each element is a  Pandas DataFrame containing the subset of spikes_dataset\n",
    "    whose timestamps lie within the boundaries of each ITI\n",
    "    '''\n",
    "    ITIs = []\n",
    "    time_boundaries = trials_begin_end(behaviour_dataset)\n",
    "    \n",
    "    for trial in range(number_of_trials(behaviour_dataset)-1):\n",
    "        ITI_spikes = spikes_in_interval(spikes_dataset,time_boundaries[trial][1],time_boundaries[trial+1][0])\n",
    "        ITI_spikes = start_interval_from_zero(ITI_spikes)\n",
    "        ITIs.append(ITI_spikes)\n",
    "    return ITIs\n",
    "\n",
    "def delete_neurons(spikes_dataset,threshold = 3):\n",
    "    '''Deletes neurons that spike less than three times in a trial\n",
    "    \n",
    "    INPUT: spikes DataFrame and a threshold [int] of the minimum number of spikes for the neuron to be considered\n",
    "    OUTPUT: the same spikes_dataset structure (a Dataframe with two columns) but without the low-activity neurons\n",
    "    ''' \n",
    "    \n",
    "    neurons = spikes_dataset['cell'].unique()\n",
    "    \n",
    "    for neuron in neurons:\n",
    "        #prevents neurons from less than threshold (in this case, 3) spikes from being further analysed \n",
    "        if len(spikes_dataset.loc[spikes_dataset['cell'] == neuron]) > threshold:    \n",
    "            #print('there are ',len(spikes_dataset.loc[spikes_dataset['cell'] == neuron]),' spikes for neuron',neuron)\n",
    "            continue\n",
    "        else:\n",
    "            spikes_dataset = spikes_dataset.drop(spikes_dataset[spikes_dataset['cell'] == neuron].index)\n",
    "            #print('Discarded neuron:',neuron)\n",
    "    return spikes_dataset\n",
    "\n",
    "def neurons_in_all_trials(trials_dataset):\n",
    "    '''Checks the global intersection in the sets of neurons that are active in each trial\n",
    "    \n",
    "    INPUT: A dataset that is spikes_data-like but split between trials, as returned by separate_into_trials()\n",
    "    OUTPUT: A list whose elements are the neurons that are active in each and every trial'''\n",
    "    \n",
    "    labels = []\n",
    "    for trial in trials:\n",
    "        labels.append(trial.cell.unique())\n",
    "\n",
    "    sets = [set(label) for label in labels]\n",
    "    test_set = sets.pop(0)\n",
    "\n",
    "    for neurons in sets:\n",
    "        test_set.intersection_update(neurons)\n",
    "    return np.array(list(test_set))\n",
    "\n",
    "def separate_neurons(spikes_dataset):\n",
    "    '''Splits the dataset into a list whose elements are the subsets comprising the spikes of each neuron\n",
    "    \n",
    "    INPUT: spikes DataFrame with two colums (timestamps for spikes and whose neuron it is)\n",
    "    OUTPUT: a list whose elements are the subsets of the spikes Dataframe (with the same structure) for each neuron\n",
    "    ''' \n",
    "    \n",
    "    neurons = spikes_dataset['cell'].unique()\n",
    "    split_dataset = []\n",
    "    \n",
    "    for neuron in neurons: \n",
    "        split_dataset.append(spikes_dataset.loc[spikes_dataset['cell'] == neuron])\n",
    "    return split_dataset\n",
    "\n",
    "def isi_estimate(spike_times):\n",
    "    '''Estimates the inter-spike interval (ISI) from a list of spike times (i.e. spikes_data['timestamp'])\n",
    "    \n",
    "    INPUT: A list of the instants in which spikes were fired\n",
    "    OUTPUT: A list of inter-spike intervals for adjacent events'''\n",
    "\n",
    "    isi = []\n",
    "    for timestamp in range(len(spike_times)-1):\n",
    "        current_isi = spike_times[timestamp+1] - spike_times[timestamp]\n",
    "        isi.append(current_isi)\n",
    "    return isi\n",
    "\n",
    "def spike_train_shuffling(spike_times):\n",
    "    '''\n",
    "    Shuffles the inter-spike intervals (ISI) in a spike train. Indeed, this preserves the number of spikes,\n",
    "    the total duration spanned by the spiking activity, the ISI distribution, and the mean rate. On the other hand,\n",
    "    this annihilates any temporal structure in the spiking activity that could subserve some function.\n",
    "    \n",
    "    INPUT: a spike train, as given by a list of the timestamps of instants in which a spike occurs\n",
    "    OUTPUT: another spike train with the same ISI distribution and number of spikes but shuffled spike positions'''\n",
    "    \n",
    "    #just in case it is passed as a DataFrame column and not a list\n",
    "    spike_times = list(spike_times)\n",
    "    \n",
    "    #obtain the ISI\n",
    "    isi_distribution = isi_estimate(spike_times)\n",
    "    #and shuffle it\n",
    "    random.shuffle(isi_distribution)\n",
    "    \n",
    "    '''since all spike trains are set to begin at t=0, setting the first spike to happen at t=0 is not a problem\n",
    "    if this is not the case, select a random number - but beware this might make some spike trains longer'''\n",
    "    current_spike = spike_times[0]\n",
    "    \n",
    "    new_spike_train = []\n",
    "    \n",
    "    for isi in isi_distribution:\n",
    "        new_spike_train.append(current_spike)\n",
    "        #the next spike will be positioned \n",
    "        current_spike += isi\n",
    "\n",
    "    return new_spike_train\n",
    "\n",
    "def kernel_conv(kernel,current_time,spike_time,resolution):\n",
    "    if kernel == 'rectangular':\n",
    "        temporal_displacement = abs(current_time - spike_time)\n",
    "        if temporal_displacement < resolution:\n",
    "            return 1/resolution\n",
    "        else:\n",
    "            return 0\n",
    "    \n",
    "    elif kernel == 'gaussian':\n",
    "        temporal_displacement = abs(current_time - spike_time)\n",
    "        return np.exp(-temporal_displacement**2/(2*resolution**2))/resolution*np.sqrt(2)\n",
    "    \n",
    "    elif kernel == 'alpha':\n",
    "        temporal_displacement = current_time - spike_time\n",
    "        if temporal_displacement > 0:\n",
    "            return (temporal_displacement/resolution**2)*np.exp(-temporal_displacement/resolution)\n",
    "        else:\n",
    "            return 0\n",
    "    else:\n",
    "        raise Exception(\"Invalid kernel.\")\n",
    "\n",
    "def windowed_signal(spike_times,starting_point=0,sampling_rate=0.01,kernel='gaussian',resolution=1.5):\n",
    "    '''\n",
    "    INPUT:\n",
    "    starting_point: first timepoint [float]\n",
    "    sampling_rate: 1/# of points in which we shall estimate our firing rate [float]\n",
    "    kernel: the kernel each spike shall be convolved with (options: rectangular, gaussian and alpha) [string]\n",
    "    resolution: the parameter controlling the width of the window (i.e. sigma in the gaussian kernel,\n",
    "        window width in the rectangular kernel) [float]\n",
    "    spike_times: an array containing the timestamp for each spike [list(float)]\n",
    "    \n",
    "    OUTPUT:\n",
    "    rates: an array containing the estimated spiking rate at each timepoint [list(float)]\n",
    "    '''\n",
    "    current_time = starting_point\n",
    "    rates = []\n",
    "    \n",
    "    while current_time <= max(spike_times):\n",
    "        current_time += sampling_rate\n",
    "        contribution_to_rate = []\n",
    "        '''We calculate the contribution each spike in the train (instant) makes to the firing rate estimated at\n",
    "        time (current_time) by convolving the spike with a given kernel, considering the temporal displacement\n",
    "        between them.\n",
    "\n",
    "        Larger temporal displacements should yield less contribution to the rate estimate, whereas spikes closer\n",
    "        to the timepoint we are interested in should yield a larger contribution.'''\n",
    "        for spike_timestamp in spike_times:\n",
    "            contribution_to_rate.append(kernel_conv(kernel,current_time,spike_timestamp,resolution=resolution))\n",
    "\n",
    "        #Sum the contributions of all spikes to achieve the rate estimate at time current_time\n",
    "        current_rate = np.sum(contribution_to_rate)\n",
    "        #Which we append to our rates list, which will yield our firing rate (hz) x time (s) plot afterwards\n",
    "        rates.append(current_rate)\n",
    "    return rates"
   ]
  },
  {
   "cell_type": "code",
   "execution_count": 250,
   "id": "655c16d0",
   "metadata": {},
   "outputs": [],
   "source": [
    "#Fetch (in order) the session/trial pair in which learning occurred\n",
    "learning_trial_number = [23,23,14,5,10,12,5,18,11,8]\n",
    "analyse_trial_session = ['201222','201227','201229','181012','181020',\n",
    "                            '150628','150630','150707','190214','190228']"
   ]
  },
  {
   "cell_type": "code",
   "execution_count": 251,
   "id": "a03157c5",
   "metadata": {},
   "outputs": [],
   "source": [
    "#Zip these two lists so the elements will be paired into tuples (session,trial)\n",
    "learning_events = zip(analyse_trial_session,learning_trial_number)"
   ]
  },
  {
   "cell_type": "code",
   "execution_count": 252,
   "id": "c9925a4c",
   "metadata": {},
   "outputs": [],
   "source": [
    "#1 second bins for population rate histogram? Seems reasonable\n",
    "binsize = 1"
   ]
  },
  {
   "cell_type": "code",
   "execution_count": 253,
   "id": "9635d5c8",
   "metadata": {},
   "outputs": [],
   "source": [
    "#load data\n",
    "behaviour_dataset = pd.read_table(filepath_or_buffer = 'mPFC_Data/201222/201222_Behavior.dat',\n",
    "                     header=None,names=['trial_start','trial_end','rule','reward','turn_side',\n",
    "                                       'light_side'],engine = 'python') #Behaviour.dat dataset\n",
    "spikes_dataset = pd.read_table(filepath_or_buffer = 'mPFC_Data/201222/201222_SpikeData.dat',\n",
    "                     header=None,names=['timestamp','cell'],engine = 'python') #SpikeData.dat dataset"
   ]
  },
  {
   "cell_type": "code",
   "execution_count": 254,
   "id": "53536f19",
   "metadata": {},
   "outputs": [],
   "source": [
    "#adjust times from ms to s\n",
    "spikes_dataset = time_conversion(spikes_dataset,'timestamp') #timestamps now in seconds\n",
    "behaviour_dataset = time_conversion(behaviour_dataset,'trial_start') #trial_start now in seconds\n",
    "behaviour_dataset = time_conversion(behaviour_dataset,'trial_end') #trial_end now in seconds"
   ]
  },
  {
   "cell_type": "code",
   "execution_count": 255,
   "id": "98f49851",
   "metadata": {},
   "outputs": [],
   "source": [
    "#number of trials and their time boundaries\n",
    "n_trials = number_of_trials(behaviour_dataset)\n",
    "trial_intervals = trials_begin_end(behaviour_dataset)"
   ]
  },
  {
   "cell_type": "code",
   "execution_count": 256,
   "id": "9503bc9c",
   "metadata": {},
   "outputs": [
    {
     "name": "stderr",
     "output_type": "stream",
     "text": [
      "/tmp/ipykernel_180678/3233970001.py:9: SettingWithCopyWarning: \n",
      "A value is trying to be set on a copy of a slice from a DataFrame.\n",
      "Try using .loc[row_indexer,col_indexer] = value instead\n",
      "\n",
      "See the caveats in the documentation: https://pandas.pydata.org/pandas-docs/stable/user_guide/indexing.html#returning-a-view-versus-a-copy\n",
      "  dataset['timestamp'] = dataset['timestamp'].apply(lambda x: x - new_zero)\n"
     ]
    }
   ],
   "source": [
    "#split the spikes_dataset into separate trials and ITIs\n",
    "trials = separate_into_trials(behaviour_dataset,spikes_dataset)\n",
    "ITIs = build_ITIs(behaviour_dataset,spikes_dataset)"
   ]
  },
  {
   "cell_type": "code",
   "execution_count": 257,
   "id": "076488b0",
   "metadata": {},
   "outputs": [],
   "source": [
    "#drop neurons that spike less than three times in a trial/ITI\n",
    "trials = list(map(delete_neurons,trials))\n",
    "ITIs = list(map(delete_neurons,ITIs))"
   ]
  },
  {
   "cell_type": "code",
   "execution_count": 314,
   "id": "89ae9c74",
   "metadata": {},
   "outputs": [],
   "source": [
    "#find the intersection of neurons that are active at every trial/ITI\n",
    "neurons_trials = neurons_in_all_trials(trials)\n",
    "neurons_ITIs = neurons_in_all_trials(ITIs)"
   ]
  },
  {
   "cell_type": "code",
   "execution_count": 349,
   "id": "e2c46e9a",
   "metadata": {},
   "outputs": [
    {
     "data": {
      "text/plain": [
       "array([ 2.,  5.,  9., 10., 15., 21., 22., 23., 25., 27.])"
      ]
     },
     "execution_count": 349,
     "metadata": {},
     "output_type": "execute_result"
    }
   ],
   "source": [
    "neurons_trials"
   ]
  },
  {
   "cell_type": "code",
   "execution_count": null,
   "id": "e21f412b",
   "metadata": {},
   "outputs": [],
   "source": [
    "teste = trials[0]\n",
    "teste2 = teste.loc[teste.apply(lambda x: x.cell in neurons_trials,axis = 1)]\n",
    "teste2"
   ]
  },
  {
   "cell_type": "code",
   "execution_count": 363,
   "id": "1deefa63",
   "metadata": {},
   "outputs": [
    {
     "data": {
      "text/html": [
       "<div>\n",
       "<style scoped>\n",
       "    .dataframe tbody tr th:only-of-type {\n",
       "        vertical-align: middle;\n",
       "    }\n",
       "\n",
       "    .dataframe tbody tr th {\n",
       "        vertical-align: top;\n",
       "    }\n",
       "\n",
       "    .dataframe thead th {\n",
       "        text-align: right;\n",
       "    }\n",
       "</style>\n",
       "<table border=\"1\" class=\"dataframe\">\n",
       "  <thead>\n",
       "    <tr style=\"text-align: right;\">\n",
       "      <th></th>\n",
       "      <th>timestamp</th>\n",
       "      <th>cell</th>\n",
       "    </tr>\n",
       "  </thead>\n",
       "  <tbody>\n",
       "    <tr>\n",
       "      <th>24559</th>\n",
       "      <td>2046.7083</td>\n",
       "      <td>2.0</td>\n",
       "    </tr>\n",
       "    <tr>\n",
       "      <th>24560</th>\n",
       "      <td>2047.1147</td>\n",
       "      <td>2.0</td>\n",
       "    </tr>\n",
       "    <tr>\n",
       "      <th>24561</th>\n",
       "      <td>2047.1921</td>\n",
       "      <td>2.0</td>\n",
       "    </tr>\n",
       "    <tr>\n",
       "      <th>24562</th>\n",
       "      <td>2047.2679</td>\n",
       "      <td>2.0</td>\n",
       "    </tr>\n",
       "    <tr>\n",
       "      <th>24563</th>\n",
       "      <td>2047.4334</td>\n",
       "      <td>2.0</td>\n",
       "    </tr>\n",
       "    <tr>\n",
       "      <th>...</th>\n",
       "      <td>...</td>\n",
       "      <td>...</td>\n",
       "    </tr>\n",
       "    <tr>\n",
       "      <th>1056259</th>\n",
       "      <td>2050.7781</td>\n",
       "      <td>27.0</td>\n",
       "    </tr>\n",
       "    <tr>\n",
       "      <th>1056260</th>\n",
       "      <td>2051.0686</td>\n",
       "      <td>27.0</td>\n",
       "    </tr>\n",
       "    <tr>\n",
       "      <th>1056261</th>\n",
       "      <td>2051.4120</td>\n",
       "      <td>27.0</td>\n",
       "    </tr>\n",
       "    <tr>\n",
       "      <th>1056262</th>\n",
       "      <td>2051.6796</td>\n",
       "      <td>27.0</td>\n",
       "    </tr>\n",
       "    <tr>\n",
       "      <th>1056263</th>\n",
       "      <td>2051.7772</td>\n",
       "      <td>27.0</td>\n",
       "    </tr>\n",
       "  </tbody>\n",
       "</table>\n",
       "<p>1127 rows × 2 columns</p>\n",
       "</div>"
      ],
      "text/plain": [
       "         timestamp  cell\n",
       "24559    2046.7083   2.0\n",
       "24560    2047.1147   2.0\n",
       "24561    2047.1921   2.0\n",
       "24562    2047.2679   2.0\n",
       "24563    2047.4334   2.0\n",
       "...            ...   ...\n",
       "1056259  2050.7781  27.0\n",
       "1056260  2051.0686  27.0\n",
       "1056261  2051.4120  27.0\n",
       "1056262  2051.6796  27.0\n",
       "1056263  2051.7772  27.0\n",
       "\n",
       "[1127 rows x 2 columns]"
      ]
     },
     "execution_count": 363,
     "metadata": {},
     "output_type": "execute_result"
    }
   ],
   "source": [
    "teste[teste['cell'].isin(neurons_trials)]"
   ]
  },
  {
   "cell_type": "code",
   "execution_count": 362,
   "id": "36caffff",
   "metadata": {},
   "outputs": [
    {
     "data": {
      "text/html": [
       "<div>\n",
       "<style scoped>\n",
       "    .dataframe tbody tr th:only-of-type {\n",
       "        vertical-align: middle;\n",
       "    }\n",
       "\n",
       "    .dataframe tbody tr th {\n",
       "        vertical-align: top;\n",
       "    }\n",
       "\n",
       "    .dataframe thead th {\n",
       "        text-align: right;\n",
       "    }\n",
       "</style>\n",
       "<table border=\"1\" class=\"dataframe\">\n",
       "  <thead>\n",
       "    <tr style=\"text-align: right;\">\n",
       "      <th></th>\n",
       "      <th>timestamp</th>\n",
       "      <th>cell</th>\n",
       "    </tr>\n",
       "  </thead>\n",
       "  <tbody>\n",
       "    <tr>\n",
       "      <th>24559</th>\n",
       "      <td>2046.7083</td>\n",
       "      <td>2.0</td>\n",
       "    </tr>\n",
       "    <tr>\n",
       "      <th>24560</th>\n",
       "      <td>2047.1147</td>\n",
       "      <td>2.0</td>\n",
       "    </tr>\n",
       "    <tr>\n",
       "      <th>24561</th>\n",
       "      <td>2047.1921</td>\n",
       "      <td>2.0</td>\n",
       "    </tr>\n",
       "    <tr>\n",
       "      <th>24562</th>\n",
       "      <td>2047.2679</td>\n",
       "      <td>2.0</td>\n",
       "    </tr>\n",
       "    <tr>\n",
       "      <th>24563</th>\n",
       "      <td>2047.4334</td>\n",
       "      <td>2.0</td>\n",
       "    </tr>\n",
       "    <tr>\n",
       "      <th>...</th>\n",
       "      <td>...</td>\n",
       "      <td>...</td>\n",
       "    </tr>\n",
       "    <tr>\n",
       "      <th>1056259</th>\n",
       "      <td>2050.7781</td>\n",
       "      <td>27.0</td>\n",
       "    </tr>\n",
       "    <tr>\n",
       "      <th>1056260</th>\n",
       "      <td>2051.0686</td>\n",
       "      <td>27.0</td>\n",
       "    </tr>\n",
       "    <tr>\n",
       "      <th>1056261</th>\n",
       "      <td>2051.4120</td>\n",
       "      <td>27.0</td>\n",
       "    </tr>\n",
       "    <tr>\n",
       "      <th>1056262</th>\n",
       "      <td>2051.6796</td>\n",
       "      <td>27.0</td>\n",
       "    </tr>\n",
       "    <tr>\n",
       "      <th>1056263</th>\n",
       "      <td>2051.7772</td>\n",
       "      <td>27.0</td>\n",
       "    </tr>\n",
       "  </tbody>\n",
       "</table>\n",
       "<p>1127 rows × 2 columns</p>\n",
       "</div>"
      ],
      "text/plain": [
       "         timestamp  cell\n",
       "24559    2046.7083   2.0\n",
       "24560    2047.1147   2.0\n",
       "24561    2047.1921   2.0\n",
       "24562    2047.2679   2.0\n",
       "24563    2047.4334   2.0\n",
       "...            ...   ...\n",
       "1056259  2050.7781  27.0\n",
       "1056260  2051.0686  27.0\n",
       "1056261  2051.4120  27.0\n",
       "1056262  2051.6796  27.0\n",
       "1056263  2051.7772  27.0\n",
       "\n",
       "[1127 rows x 2 columns]"
      ]
     },
     "execution_count": 362,
     "metadata": {},
     "output_type": "execute_result"
    }
   ],
   "source": [
    "def relevant_neurons(single_trial_df,neurons_to_consider):\n",
    "    '''\n",
    "    \n",
    "    INPUT: a dataframe containing the spikes for every neuron in a given trial\n",
    "    OUTPUT: the former dataframe without the rows corresponding to neurons that do not fire in every trial\n",
    "    '''\n",
    "    \n",
    "    return single_trial_df.loc[single_trial_df.apply(lambda row: row.cell in neurons_to_consider,axis = 1)]"
   ]
  },
  {
   "cell_type": "code",
   "execution_count": 301,
   "id": "96c733b7",
   "metadata": {},
   "outputs": [
    {
     "name": "stdout",
     "output_type": "stream",
     "text": [
      "         timestamp  cell\n",
      "24559    2046.7083   2.0\n",
      "24560    2047.1147   2.0\n",
      "24561    2047.1921   2.0\n",
      "24562    2047.2679   2.0\n",
      "24563    2047.4334   2.0\n",
      "...            ...   ...\n",
      "1056259  2050.7781  27.0\n",
      "1056260  2051.0686  27.0\n",
      "1056261  2051.4120  27.0\n",
      "1056262  2051.6796  27.0\n",
      "1056263  2051.7772  27.0\n",
      "\n",
      "[1309 rows x 2 columns]\n"
     ]
    }
   ],
   "source": [
    "for trial in trials:\n",
    "    print(trial)\n",
    "    break"
   ]
  },
  {
   "cell_type": "code",
   "execution_count": 298,
   "id": "4b624421",
   "metadata": {},
   "outputs": [
    {
     "name": "stdout",
     "output_type": "stream",
     "text": [
      "       timestamp  cell\n",
      "24559  2046.7083   2.0\n",
      "24560  2047.1147   2.0\n",
      "24561  2047.1921   2.0\n",
      "24562  2047.2679   2.0\n",
      "24563  2047.4334   2.0\n",
      "24564  2047.5613   2.0\n",
      "24565  2048.1830   2.0\n",
      "24566  2048.5185   2.0\n",
      "24567  2048.9053   2.0\n",
      "24568  2048.9511   2.0\n",
      "24569  2048.9921   2.0\n",
      "24570  2049.0624   2.0\n",
      "24571  2049.1406   2.0\n",
      "24572  2049.1934   2.0\n",
      "24573  2049.2199   2.0\n",
      "24574  2049.2891   2.0\n",
      "24575  2049.4397   2.0\n",
      "24576  2049.4871   2.0\n",
      "24577  2049.5746   2.0\n",
      "24578  2049.5929   2.0\n",
      "24579  2049.6805   2.0\n",
      "24580  2049.7033   2.0\n",
      "24581  2049.7889   2.0\n",
      "24582  2050.1339   2.0\n",
      "24583  2050.2061   2.0\n",
      "24584  2050.2513   2.0\n",
      "24585  2050.2631   2.0\n",
      "24586  2050.3613   2.0\n",
      "24587  2050.4901   2.0\n",
      "24588  2050.5656   2.0\n",
      "24589  2051.2773   2.0\n",
      "24590  2051.4701   2.0\n",
      "24591  2051.6593   2.0\n",
      "24592  2051.6998   2.0\n",
      "24593  2051.8380   2.0\n",
      "       timestamp  cell\n",
      "91763  2046.8450   5.0\n",
      "91764  2046.9225   5.0\n",
      "91765  2046.9692   5.0\n",
      "91766  2047.0390   5.0\n",
      "91767  2047.0933   5.0\n",
      "...          ...   ...\n",
      "91877  2052.9914   5.0\n",
      "91878  2053.0542   5.0\n",
      "91879  2053.1087   5.0\n",
      "91880  2053.2038   5.0\n",
      "91881  2053.3163   5.0\n",
      "\n",
      "[119 rows x 2 columns]\n",
      "        timestamp  cell\n",
      "263224  2046.7121   9.0\n",
      "263225  2046.7213   9.0\n",
      "263226  2046.7414   9.0\n",
      "263227  2046.7533   9.0\n",
      "263228  2046.7687   9.0\n",
      "...           ...   ...\n",
      "263426  2052.7789   9.0\n",
      "263427  2052.9657   9.0\n",
      "263428  2053.0221   9.0\n",
      "263429  2053.0555   9.0\n",
      "263430  2053.1452   9.0\n",
      "\n",
      "[207 rows x 2 columns]\n"
     ]
    }
   ],
   "source": [
    "for trial in trials:\n",
    "    for neuron in neurons_trials:\n",
    "        print(trials[0].loc[trials[0]['cell']==neuron])\n",
    "        break"
   ]
  },
  {
   "cell_type": "code",
   "execution_count": 291,
   "id": "36911eea",
   "metadata": {},
   "outputs": [],
   "source": [
    "spikes_teste = trials[0].loc[trials[0]['cell']==2]\n",
    "teste2 = list(spikes_teste['timestamp'])\n",
    "teste3 = spike_train_shuffling(teste2)"
   ]
  },
  {
   "cell_type": "code",
   "execution_count": 294,
   "id": "ad6db0f2",
   "metadata": {},
   "outputs": [
    {
     "data": {
      "text/plain": [
       "[<matplotlib.collections.EventCollection at 0x7f47c16cf850>]"
      ]
     },
     "execution_count": 294,
     "metadata": {},
     "output_type": "execute_result"
    },
    {
     "data": {
      "image/png": "[encoded data removed]",
      "text/plain": [
       "<Figure size 432x288 with 2 Axes>"
      ]
     },
     "metadata": {
      "needs_background": "light"
     },
     "output_type": "display_data"
    }
   ],
   "source": [
    "fig, axs = plt.subplots(2)\n",
    "fig.suptitle('Spike train shuffling')\n",
    "axs[0].eventplot(teste2)\n",
    "axs[1].eventplot(teste3)"
   ]
  },
  {
   "cell_type": "code",
   "execution_count": 260,
   "id": "31686003",
   "metadata": {},
   "outputs": [
    {
     "data": {
      "image/png": "[encoded data removed]",
      "text/plain": [
       "<Figure size 432x288 with 1 Axes>"
      ]
     },
     "metadata": {
      "needs_background": "light"
     },
     "output_type": "display_data"
    }
   ],
   "source": [
    "import random\n",
    "\n",
    "for cell in neurons_trials:\n",
    "    spikes = trials[0].loc[trials[0]['cell']==cell]\n",
    "    spike_times = spikes['timestamp']\n",
    "    plt.eventplot(spike_times)\n",
    "    break"
   ]
  },
  {
   "cell_type": "code",
   "execution_count": 229,
   "id": "f8c57626",
   "metadata": {},
   "outputs": [],
   "source": [
    "teste_isi = isi_estimate(list(spike_times))"
   ]
  },
  {
   "cell_type": "code",
   "execution_count": 230,
   "id": "5880da1f",
   "metadata": {},
   "outputs": [],
   "source": [
    "random.shuffle(teste_isi)"
   ]
  },
  {
   "cell_type": "code",
   "execution_count": 287,
   "id": "d41448f3",
   "metadata": {},
   "outputs": [],
   "source": [
    "def spike_train_shuffling(spike_times):\n",
    "    '''\n",
    "    Shuffles the inter-spike intervals (ISI) in a spike train. Indeed, this preserves the number of spikes,\n",
    "    the total duration spanned by the spiking activity, the ISI distribution, and the mean rate. On the other hand,\n",
    "    this annihilates any temporal structure in the spiking activity that could subserve some function.\n",
    "    \n",
    "    INPUT: a spike train, as given by a list of the timestamps of instants in which a spike occurs\n",
    "    OUTPUT: another spike train with the same ISI distribution and number of spikes but shuffled spike positions'''\n",
    "    \n",
    "    #just in case it is passed as a DataFrame column and not a list\n",
    "    spike_times = list(spike_times)\n",
    "    \n",
    "    #obtain the ISI\n",
    "    isi_distribution = isi_estimate(spike_times)\n",
    "    #and shuffle it\n",
    "    random.shuffle(isi)\n",
    "    \n",
    "    '''since all spike trains are set to begin at t=0, setting the first spike to happen at t=0 is not a problem\n",
    "    if this is not the case, select a random number - but beware this might make some spike trains longer'''\n",
    "    current_spike = spike_times[0]\n",
    "    \n",
    "    new_spike_train = []\n",
    "    \n",
    "    for isi in isi_distribution:\n",
    "        new_spike_train.append(current_spike)\n",
    "        #the next spike will be positioned \n",
    "        current_spike += isi\n",
    "\n",
    "    return new_spike_train"
   ]
  },
  {
   "cell_type": "code",
   "execution_count": 242,
   "id": "9e0ad351",
   "metadata": {},
   "outputs": [
    {
     "data": {
      "text/plain": [
       "[<matplotlib.collections.EventCollection at 0x7f47c2587b50>]"
      ]
     },
     "execution_count": 242,
     "metadata": {},
     "output_type": "execute_result"
    },
    {
     "data": {
      "image/png": "[encoded data removed]",
      "text/plain": [
       "<Figure size 432x288 with 2 Axes>"
      ]
     },
     "metadata": {
      "needs_background": "light"
     },
     "output_type": "display_data"
    }
   ],
   "source": [
    "new_spike_train = []\n",
    "current_spike = 0\n",
    "\n",
    "for isi in teste_isi:\n",
    "    new_spike_train.append(current_spike)\n",
    "    current_spike = current_spike + isi\n",
    "    #current_spike += isi\n",
    "    \n",
    "fig, axs = plt.subplots(2)\n",
    "fig.suptitle('Spike train shuffling')\n",
    "axs[0].eventplot(spike_times)\n",
    "axs[1].eventplot(new_spike_train)"
   ]
  },
  {
   "cell_type": "code",
   "execution_count": 236,
   "id": "748e6d06",
   "metadata": {},
   "outputs": [
    {
     "data": {
      "text/plain": [
       "[<matplotlib.collections.EventCollection at 0x7f47c1b6ab50>]"
      ]
     },
     "execution_count": 236,
     "metadata": {},
     "output_type": "execute_result"
    },
    {
     "data": {
      "image/png": "[encoded data removed]",
      "text/plain": [
       "<Figure size 432x288 with 1 Axes>"
      ]
     },
     "metadata": {
      "needs_background": "light"
     },
     "output_type": "display_data"
    }
   ],
   "source": [
    "plt.eventplot(new_spike_train)"
   ]
  },
  {
   "cell_type": "code",
   "execution_count": 237,
   "id": "139d4050",
   "metadata": {},
   "outputs": [
    {
     "data": {
      "text/plain": [
       "[<matplotlib.collections.EventCollection at 0x7f47c1b39910>]"
      ]
     },
     "execution_count": 237,
     "metadata": {},
     "output_type": "execute_result"
    },
    {
     "data": {
      "image/png": "[encoded data removed]",
      "text/plain": [
       "<Figure size 432x288 with 2 Axes>"
      ]
     },
     "metadata": {
      "needs_background": "light"
     },
     "output_type": "display_data"
    }
   ],
   "source": [
    "fig, axs = plt.subplots(2)\n",
    "fig.suptitle('Spike train shuffling')\n",
    "axs[0].eventplot(spike_times)\n",
    "axs[1].eventplot(new_spike_train)"
   ]
  },
  {
   "cell_type": "code",
   "execution_count": 203,
   "id": "474091a2",
   "metadata": {},
   "outputs": [],
   "source": [
    "def isi_estimate(spike_times):\n",
    "    '''Estimates the inter-spike interval (ISI) from a list of spike times (i.e. spikes_data['timestamp'])\n",
    "    \n",
    "    INPUT: A list of the instants in which spikes were fired\n",
    "    OUTPUT: A list of inter-spike intervals for adjacent events'''\n",
    "\n",
    "    isi = []\n",
    "    for timestamp in range(len(spike_times)-1):\n",
    "        current_isi = spike_times[timestamp+1] - spike_times[timestamp]\n",
    "        isi.append(current_isi)\n",
    "    return isi"
   ]
  },
  {
   "cell_type": "code",
   "execution_count": null,
   "id": "015acd70",
   "metadata": {},
   "outputs": [],
   "source": [
    "def spike_shuffling(spike_train):"
   ]
  }
 ],
 "metadata": {
  "kernelspec": {
   "display_name": "Python 3 (ipykernel)",
   "language": "python",
   "name": "python3"
  },
  "language_info": {
   "codemirror_mode": {
    "name": "ipython",
    "version": 3
   },
   "file_extension": ".py",
   "mimetype": "text/x-python",
   "name": "python",
   "nbconvert_exporter": "python",
   "pygments_lexer": "ipython3",
   "version": "3.8.10"
  }
 },
 "nbformat": 4,
 "nbformat_minor": 5
}
