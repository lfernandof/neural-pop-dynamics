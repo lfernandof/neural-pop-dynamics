{
 "cells": [
  {
   "cell_type": "code",
   "execution_count": 5,
   "id": "6c59c2e5",
   "metadata": {},
   "outputs": [],
   "source": [
    "import pandas as pd\n",
    "import numpy as np\n",
    "import matplotlib.pyplot as plt\n",
    "from scipy import stats"
   ]
  },
  {
   "cell_type": "code",
   "execution_count": 73,
   "id": "94b44391",
   "metadata": {},
   "outputs": [],
   "source": [
    "def time_conversion(dataset,column,conversion_factor=0.001):\n",
    "    '''Converts the timestamps in the dataset from ms to seconds (0.001)'''\n",
    "    dataset[column] = dataset[column]*conversion_factor\n",
    "    return dataset\n",
    "\n",
    "def start_interval_from_zero(dataset):\n",
    "    '''Subtracts the first timestamp value from all timestamps, so spike times begin from zero onward'''\n",
    "    new_zero = dataset['timestamp'].min()\n",
    "    dataset['timestamp'] = dataset['timestamp'].apply(lambda x: x - new_zero)\n",
    "    return dataset\n",
    "\n",
    "def number_of_trials(behaviour_dataset):\n",
    "    '''Returns the number of trials for a given session\n",
    "    \n",
    "    INPUT: a Pandas DataFrame containing the data from the Behavior.dat file of the corresponding session\n",
    "    OUTPUT: the number of trials\n",
    "    '''\n",
    "    return len(behaviour_dataset)\n",
    "\n",
    "def trials_begin_end(behaviour_dataset):\n",
    "    '''Returns the number of trials for a given session\n",
    "    \n",
    "    INPUT: a Pandas DataFrame containing the data from the Behavior.dat file of the corresponding session\n",
    "    OUTPUT: a list of tuples (trial_start,trial_end)\n",
    "    '''\n",
    "    n_trials = number_of_trials(behaviour_dataset)\n",
    "    boundaries = []\n",
    "    for trial in range(n_trials):\n",
    "        lower_boundary = behaviour_dataset.iloc[trial].trial_start\n",
    "        upper_boundary = behaviour_dataset.iloc[trial].trial_end\n",
    "        boundaries.append((lower_boundary,upper_boundary))\n",
    "    return boundaries\n",
    "\n",
    "def spikes_in_interval(dataset,interval_start,interval_end):\n",
    "    '''Returns all spikes in the dataset whose timestamps lay between the interval start and end boundaries\n",
    "    \n",
    "    INPUT: a Pandas DataFrame containing the spike data from the SpikeData.dat file of the corresponding session\n",
    "    and the time boundaries that define the interval\n",
    "    OUTPUT: a Pandas DataFrame containing the subset of spikes_dataset whose timestamps lie within the boundaries\n",
    "    '''\n",
    "    return dataset.loc[(dataset['timestamp'] >= interval_start) &\n",
    "                       (dataset['timestamp'] <= interval_end)]\n",
    "\n",
    "def separate_into_trials(behaviour_dataset,spikes_dataset):\n",
    "    '''Splits the spikes_dataset into a list whose elements correspond to the spikes in each trial in the session\n",
    "    \n",
    "    INPUT: a Pandas DataFrame containing the data from the Behavior.dat file of the corresponding session and a\n",
    "    Pandas DataFrame containing the spike data from the accompanying SpikeData.dat\n",
    "    OUTPUT: a list in which each element is a  Pandas DataFrame containing the subset of spikes_dataset\n",
    "    whose timestamps lie within the boundaries of each trial\n",
    "    '''\n",
    "    trials = []\n",
    "    time_boundaries = trials_begin_end(behaviour_dataset)\n",
    "    \n",
    "    for trial in range(number_of_trials(behaviour_dataset)):\n",
    "        trial_spikes = spikes_in_interval(spikes_dataset,time_boundaries[trial][0],time_boundaries[trial][1])\n",
    "        trial_spikes = start_interval_from_zero(trial_spikes)\n",
    "        trials.append(trial_spikes)\n",
    "    \n",
    "    return trials\n",
    "\n",
    "def build_ITIs(behaviour_dataset,spikes_dataset):\n",
    "    '''Splits the spikes_dataset into a list whose elements correspond to the spikes in each ITI in the session\n",
    "    \n",
    "    INPUT: a Pandas DataFrame containing the data from the Behavior.dat file of the corresponding session and a\n",
    "    Pandas DataFrame containing the spike data from the accompanying SpikeData.dat\n",
    "    OUTPUT: a list in which each element is a  Pandas DataFrame containing the subset of spikes_dataset\n",
    "    whose timestamps lie within the boundaries of each ITI\n",
    "    '''\n",
    "    ITIs = []\n",
    "    time_boundaries = trials_begin_end(behaviour_dataset)\n",
    "    \n",
    "    for trial in range(number_of_trials(behaviour_dataset)-1):\n",
    "        ITI_spikes = spikes_in_interval(spikes_dataset,time_boundaries[trial][1],time_boundaries[trial+1][0])\n",
    "        ITI_spikes = start_interval_from_zero(ITI_spikes)\n",
    "        ITIs.append(ITI_spikes)\n",
    "    return ITIs\n",
    "\n",
    "def separate_neurons(spikes_dataset,threshold = 3):\n",
    "    '''Splits the dataset into a list whose elements are the subsets comprising the spikes of each neuron\n",
    "    \n",
    "    INPUT: spikes DataFrame and a threshold [int] of the minimum number of spikes for the neuron to be considered\n",
    "    OUTPUT: a list whose elements are the subsets of the spikes Dataframe (with the same structure) for each neuron\n",
    "    ''' \n",
    "    \n",
    "    neurons = spikes_dataset['cell'].unique()\n",
    "    split_dataset = []\n",
    "    \n",
    "    for neuron in neurons:\n",
    "        #prevents neurons from less than threshold (in this case, 2) spikes from being further analysed \n",
    "        if len(spikes_dataset.loc[spikes_dataset['cell'] == neuron]) > threshold:          \n",
    "            split_dataset.append(spikes_dataset.loc[spikes_dataset['cell'] == neuron])\n",
    "        #else:\n",
    "        #    print('Discarded neuron:',neuron)\n",
    "    return split_dataset\n",
    "\n",
    "def isi_estimate(spike_times):\n",
    "    isi = []\n",
    "    for timestamp in range(len(spike_times)-1):\n",
    "        current_isi = spike_times[timestamp+1] - spike_times[timestamp]\n",
    "        isi.append(current_isi)\n",
    "    return isi\n",
    "\n",
    "def kernel_conv(kernel,current_time,spike_time,resolution):\n",
    "    if kernel == 'rectangular':\n",
    "        temporal_displacement = abs(current_time - spike_time)\n",
    "        if temporal_displacement < resolution:\n",
    "            return 1/resolution\n",
    "        else:\n",
    "            return 0\n",
    "    \n",
    "    elif kernel == 'gaussian':\n",
    "        temporal_displacement = abs(current_time - spike_time)\n",
    "        return np.exp(-temporal_displacement**2/(2*resolution**2))/resolution*np.sqrt(2)\n",
    "    \n",
    "    elif kernel == 'alpha':\n",
    "        temporal_displacement = current_time - spike_time\n",
    "        if temporal_displacement > 0:\n",
    "            return (temporal_displacement/resolution**2)*np.exp(-temporal_displacement/resolution)\n",
    "        else:\n",
    "            return 0\n",
    "    else:\n",
    "        raise Exception(\"Invalid kernel.\")\n",
    "\n",
    "def windowed_signal(spike_times,starting_point=0,sampling_rate=0.01,kernel='gaussian',resolution=1.5):\n",
    "    '''\n",
    "    INPUT:\n",
    "    starting_point: first timepoint [float]\n",
    "    sampling_rate: 1/# of points in which we shall estimate our firing rate [float]\n",
    "    kernel: the kernel each spike shall be convolved with (options: rectangular, gaussian and alpha) [string]\n",
    "    resolution: the parameter controlling the width of the window (i.e. sigma in the gaussian kernel,\n",
    "        window width in the rectangular kernel) [float]\n",
    "    spike_times: an array containing the timestamp for each spike [list(float)]\n",
    "    \n",
    "    OUTPUT:\n",
    "    rates: an array containing the estimated spiking rate at each timepoint [list(float)]\n",
    "    '''\n",
    "    current_time = starting_point\n",
    "    rates = []\n",
    "    \n",
    "    while current_time <= max(spike_times):\n",
    "        current_time += sampling_rate\n",
    "        contribution_to_rate = []\n",
    "        '''We calculate the contribution each spike in the train (instant) makes to the firing rate estimated at\n",
    "        time (current_time) by convolving the spike with a given kernel, considering the temporal displacement\n",
    "        between them.\n",
    "\n",
    "        Larger temporal displacements should yield less contribution to the rate estimate, whereas spikes closer\n",
    "        to the timepoint we are interested in should yield a larger contribution.'''\n",
    "        for spike_timestamp in spike_times:\n",
    "            contribution_to_rate.append(kernel_conv(kernel,current_time,spike_timestamp,resolution=resolution))\n",
    "\n",
    "        #Sum the contributions of all spikes to achieve the rate estimate at time current_time\n",
    "        current_rate = np.sum(contribution_to_rate)\n",
    "        #Which we append to our rates list, which will yield our firing rate (hz) x time (s) plot afterwards\n",
    "        rates.append(current_rate)\n",
    "    return rates"
   ]
  },
  {
   "cell_type": "code",
   "execution_count": 66,
   "id": "1138d011",
   "metadata": {},
   "outputs": [
    {
     "name": "stderr",
     "output_type": "stream",
     "text": [
      "/tmp/ipykernel_47653/3781344027.py:9: SettingWithCopyWarning: \n",
      "A value is trying to be set on a copy of a slice from a DataFrame.\n",
      "Try using .loc[row_indexer,col_indexer] = value instead\n",
      "\n",
      "See the caveats in the documentation: https://pandas.pydata.org/pandas-docs/stable/user_guide/indexing.html#returning-a-view-versus-a-copy\n",
      "  dataset['timestamp'] = dataset['timestamp'].apply(lambda x: x - new_zero)\n"
     ]
    }
   ],
   "source": [
    "#Fetch (in order) the session/trial pair in which learning occurred\n",
    "learning_trial_number = [23,23,14,5,10,12,5,18,11,8]\n",
    "analyse_trial_session = ['201222','201227','201229','181012','181020',\n",
    "                            '150628','150630','150707','190214','190228']\n",
    "\n",
    "#Zip these two lists so the elements will be paired into tuples (session,trial)\n",
    "learning_events = zip(analyse_trial_session,learning_trial_number)\n",
    "\n",
    "#1 second bins for population rate histogram? Seems reasonable\n",
    "binsize = 1\n",
    "\n",
    "#load data\n",
    "behaviour_dataset = pd.read_table(filepath_or_buffer = 'mPFC_Data/201222/201222_Behavior.dat',\n",
    "                     header=None,names=['trial_start','trial_end','rule','reward','turn_side',\n",
    "                                       'light_side'],engine = 'python') #Behaviour.dat dataset\n",
    "spikes_dataset = pd.read_table(filepath_or_buffer = 'mPFC_Data/201222/201222_SpikeData.dat',\n",
    "                     header=None,names=['timestamp','cell'],engine = 'python') #SpikeData.dat dataset\n",
    "\n",
    "#adjust times\n",
    "spikes_dataset = time_conversion(spikes_dataset,'timestamp') #timestamps now in seconds\n",
    "behaviour_dataset = time_conversion(behaviour_dataset,'trial_start') #trial_start now in seconds\n",
    "behaviour_dataset = time_conversion(behaviour_dataset,'trial_end') #trial_end now in seconds\n",
    "\n",
    "#number of trials and their time boundaries\n",
    "n_trials = number_of_trials(behaviour_dataset)\n",
    "trial_intervals = trials_begin_end(behaviour_dataset)\n",
    "\n",
    "#split the spikes_dataset into separate trials and ITIs\n",
    "trials = separate_into_trials(behaviour_dataset,spikes_dataset)\n",
    "ITIs = build_ITIs(behaviour_dataset,spikes_dataset)"
   ]
  },
  {
   "cell_type": "code",
   "execution_count": 67,
   "id": "589742c0",
   "metadata": {},
   "outputs": [],
   "source": [
    "#split the trials further, separating each trial into its constituent neurons\n",
    "trials = [separate_neurons(trial) for trial in trials]"
   ]
  },
  {
   "cell_type": "code",
   "execution_count": 164,
   "id": "35d058c7",
   "metadata": {},
   "outputs": [],
   "source": [
    "teste = windowed_signal(trials[0][0]['timestamp'],resolution=0.3)\n",
    "teste2 = stats.zscore(teste)"
   ]
  },
  {
   "cell_type": "code",
   "execution_count": 159,
   "id": "a4895f6f",
   "metadata": {},
   "outputs": [
    {
     "name": "stdout",
     "output_type": "stream",
     "text": [
      "24559    0.0029\n",
      "24560    0.4093\n",
      "24561    0.4867\n",
      "24562    0.5625\n",
      "24563    0.7280\n",
      "24564    0.8559\n",
      "24565    1.4776\n",
      "24566    1.8131\n",
      "24567    2.1999\n",
      "24568    2.2457\n",
      "24569    2.2867\n",
      "24570    2.3570\n",
      "24571    2.4352\n",
      "24572    2.4880\n",
      "24573    2.5145\n",
      "24574    2.5837\n",
      "24575    2.7343\n",
      "24576    2.7817\n",
      "24577    2.8692\n",
      "24578    2.8875\n",
      "24579    2.9751\n",
      "24580    2.9979\n",
      "24581    3.0835\n",
      "24582    3.4285\n",
      "24583    3.5007\n",
      "24584    3.5459\n",
      "24585    3.5577\n",
      "24586    3.6559\n",
      "24587    3.7847\n",
      "24588    3.8602\n",
      "24589    4.5719\n",
      "24590    4.7647\n",
      "24591    4.9539\n",
      "24592    4.9944\n",
      "24593    5.1326\n",
      "Name: timestamp, dtype: float64\n",
      "eita nois\n"
     ]
    }
   ],
   "source": [
    "firing_rates = []\n",
    "\n",
    "for trial in trials:\n",
    "    for neuron in trial:\n",
    "        print(neuron['timestamp'])\n",
    "        break\n",
    "    break"
   ]
  },
  {
   "cell_type": "code",
   "execution_count": null,
   "id": "1f4dd3a9",
   "metadata": {},
   "outputs": [],
   "source": [
    "def trial_firing_rates():\n",
    "    firing_rates = []\n",
    "    \n",
    "    for neuron in trial:\n",
    "        \n",
    "\n",
    "firing_rates = []\n",
    "\n",
    "for neuron in range(len(trials[0])):\n",
    "    spikes = trials[0][neuron]['timestamp']\n",
    "    firing_rates.append(windowed_signal(spikes,resolution=0.3))"
   ]
  },
  {
   "cell_type": "code",
   "execution_count": 116,
   "id": "c4f8f341",
   "metadata": {},
   "outputs": [
    {
     "data": {
      "text/html": [
       "<div>\n",
       "<style scoped>\n",
       "    .dataframe tbody tr th:only-of-type {\n",
       "        vertical-align: middle;\n",
       "    }\n",
       "\n",
       "    .dataframe tbody tr th {\n",
       "        vertical-align: top;\n",
       "    }\n",
       "\n",
       "    .dataframe thead th {\n",
       "        text-align: right;\n",
       "    }\n",
       "</style>\n",
       "<table border=\"1\" class=\"dataframe\">\n",
       "  <thead>\n",
       "    <tr style=\"text-align: right;\">\n",
       "      <th></th>\n",
       "      <th>timestamp</th>\n",
       "      <th>cell</th>\n",
       "    </tr>\n",
       "  </thead>\n",
       "  <tbody>\n",
       "    <tr>\n",
       "      <th>172437</th>\n",
       "      <td>0.3301</td>\n",
       "      <td>7.0</td>\n",
       "    </tr>\n",
       "    <tr>\n",
       "      <th>172438</th>\n",
       "      <td>0.3619</td>\n",
       "      <td>7.0</td>\n",
       "    </tr>\n",
       "    <tr>\n",
       "      <th>172439</th>\n",
       "      <td>1.3209</td>\n",
       "      <td>7.0</td>\n",
       "    </tr>\n",
       "    <tr>\n",
       "      <th>172440</th>\n",
       "      <td>1.4575</td>\n",
       "      <td>7.0</td>\n",
       "    </tr>\n",
       "    <tr>\n",
       "      <th>172441</th>\n",
       "      <td>1.5125</td>\n",
       "      <td>7.0</td>\n",
       "    </tr>\n",
       "    <tr>\n",
       "      <th>172442</th>\n",
       "      <td>1.8721</td>\n",
       "      <td>7.0</td>\n",
       "    </tr>\n",
       "    <tr>\n",
       "      <th>172443</th>\n",
       "      <td>1.9356</td>\n",
       "      <td>7.0</td>\n",
       "    </tr>\n",
       "    <tr>\n",
       "      <th>172444</th>\n",
       "      <td>3.2776</td>\n",
       "      <td>7.0</td>\n",
       "    </tr>\n",
       "    <tr>\n",
       "      <th>172445</th>\n",
       "      <td>4.4113</td>\n",
       "      <td>7.0</td>\n",
       "    </tr>\n",
       "    <tr>\n",
       "      <th>172446</th>\n",
       "      <td>4.9315</td>\n",
       "      <td>7.0</td>\n",
       "    </tr>\n",
       "    <tr>\n",
       "      <th>172447</th>\n",
       "      <td>5.0463</td>\n",
       "      <td>7.0</td>\n",
       "    </tr>\n",
       "    <tr>\n",
       "      <th>172448</th>\n",
       "      <td>6.2742</td>\n",
       "      <td>7.0</td>\n",
       "    </tr>\n",
       "    <tr>\n",
       "      <th>172449</th>\n",
       "      <td>6.4868</td>\n",
       "      <td>7.0</td>\n",
       "    </tr>\n",
       "  </tbody>\n",
       "</table>\n",
       "</div>"
      ],
      "text/plain": [
       "        timestamp  cell\n",
       "172437     0.3301   7.0\n",
       "172438     0.3619   7.0\n",
       "172439     1.3209   7.0\n",
       "172440     1.4575   7.0\n",
       "172441     1.5125   7.0\n",
       "172442     1.8721   7.0\n",
       "172443     1.9356   7.0\n",
       "172444     3.2776   7.0\n",
       "172445     4.4113   7.0\n",
       "172446     4.9315   7.0\n",
       "172447     5.0463   7.0\n",
       "172448     6.2742   7.0\n",
       "172449     6.4868   7.0"
      ]
     },
     "execution_count": 116,
     "metadata": {},
     "output_type": "execute_result"
    }
   ],
   "source": [
    "trials[0][4]"
   ]
  },
  {
   "cell_type": "code",
   "execution_count": 148,
   "id": "e0b4215a",
   "metadata": {},
   "outputs": [
    {
     "data": {
      "text/plain": [
       "Text(0.5, 0, 'Time (s)')"
      ]
     },
     "execution_count": 148,
     "metadata": {},
     "output_type": "execute_result"
    },
    {
     "data": {
      "image/png": "[encoded data removed]",
      "text/plain": [
       "<Figure size 1080x360 with 1 Axes>"
      ]
     },
     "metadata": {
      "needs_background": "light"
     },
     "output_type": "display_data"
    }
   ],
   "source": [
    "teste = firing_rates[10]\n",
    "\n",
    "plt.figure(figsize=(15,5))\n",
    "plt.plot(np.linspace(0,6, len(teste)),teste)\n",
    "plt.ylabel('Firing rate (Hz)')\n",
    "plt.xlabel('Time (s)')"
   ]
  },
  {
   "cell_type": "code",
   "execution_count": 134,
   "id": "79ea1f52",
   "metadata": {},
   "outputs": [],
   "source": []
  },
  {
   "cell_type": "code",
   "execution_count": 117,
   "id": "11efeaa7",
   "metadata": {},
   "outputs": [],
   "source": [
    "gauss_rates = windowed_signal(trials[0][4]['timestamp'],resolution=0.3)"
   ]
  },
  {
   "cell_type": "code",
   "execution_count": 118,
   "id": "31bd4678",
   "metadata": {},
   "outputs": [
    {
     "data": {
      "text/plain": [
       "Text(0.5, 0, 'Time (s)')"
      ]
     },
     "execution_count": 118,
     "metadata": {},
     "output_type": "execute_result"
    },
    {
     "data": {
      "image/png": "[encoded data removed]",
      "text/plain": [
       "<Figure size 1080x360 with 1 Axes>"
      ]
     },
     "metadata": {
      "needs_background": "light"
     },
     "output_type": "display_data"
    }
   ],
   "source": [
    "plt.figure(figsize=(15,5))\n",
    "plt.plot(np.linspace(0,6, len(gauss_rates)),gauss_rates)\n",
    "plt.ylabel('Firing rate (Hz)')\n",
    "plt.xlabel('Time (s)')"
   ]
  },
  {
   "cell_type": "code",
   "execution_count": 8,
   "id": "1233ac81",
   "metadata": {},
   "outputs": [
    {
     "data": {
      "text/plain": [
       "1705      -1.342931\n",
       "1706       1.307243\n",
       "24559     -1.772174\n",
       "24560     -1.552304\n",
       "24561     -1.510430\n",
       "             ...   \n",
       "1056259    0.429659\n",
       "1056260    0.586824\n",
       "1056261    0.772610\n",
       "1056262    0.917386\n",
       "1056263    0.970189\n",
       "Name: timestamp, Length: 1316, dtype: float64"
      ]
     },
     "execution_count": 8,
     "metadata": {},
     "output_type": "execute_result"
    }
   ],
   "source": [
    "stats.zscore(trials[0]['timestamp'])"
   ]
  },
  {
   "cell_type": "code",
   "execution_count": 12,
   "id": "1764919d",
   "metadata": {},
   "outputs": [
    {
     "data": {
      "text/plain": [
       "array([ 1.,  2.,  4.,  5.,  6.,  7.,  8.,  9., 10., 12., 14., 15., 16.,\n",
       "       17., 18., 19., 20., 21., 22., 23., 25., 26., 27.])"
      ]
     },
     "execution_count": 12,
     "metadata": {},
     "output_type": "execute_result"
    }
   ],
   "source": [
    "trials[0]['cell'].unique()"
   ]
  },
  {
   "cell_type": "code",
   "execution_count": 240,
   "id": "b41968d9",
   "metadata": {},
   "outputs": [],
   "source": [
    "#Fetch (in order) the session/trial pair in which learning occurred\n",
    "learning_trial_number = [23,23,14,5,10,12,5,18,11,8]\n",
    "analyse_trial_session = ['201222','201227','201229','181012','181020',\n",
    "                            '150628','150630','150707','190214','190228']\n",
    "\n",
    "#Zip these two lists so the elements will be paired into tuples (session,trial)\n",
    "learning_events = zip(analyse_trial_session,learning_trial_number)\n",
    "\n",
    "#Convert time from ms to s\n",
    "time_conversion = 0.001\n",
    "\n",
    "#1 second bins for population rate histogram? Seems reasonable\n",
    "binsize = 10;\n",
    "\n",
    "#load data for each event\n",
    "#for event in learning_events:\n",
    "\n",
    "#load data, plot rate histogram and rate distributions\n",
    "data = pd.read_table(filepath_or_buffer = 'mPFC_Data/201222/201222_SpikeData.dat',\n",
    "                     header=None,names=['timestamp','cell'],engine = 'python')\n",
    "trials = pd.read_table(filepath_or_buffer = 'mPFC_Data/201222/201222_Behavior.dat',\n",
    "                     header=None,names=['trial_start','trial_end','rule','reward','turn_side',\n",
    "                                       'light_side'],engine = 'python')"
   ]
  },
  {
   "cell_type": "code",
   "execution_count": 241,
   "id": "c137d9ed",
   "metadata": {},
   "outputs": [],
   "source": [
    "data['timestamp'] = data['timestamp'].apply(lambda x: x * time_conversion)"
   ]
  },
  {
   "cell_type": "code",
   "execution_count": 242,
   "id": "309b286e",
   "metadata": {},
   "outputs": [
    {
     "data": {
      "text/html": [
       "<div>\n",
       "<style scoped>\n",
       "    .dataframe tbody tr th:only-of-type {\n",
       "        vertical-align: middle;\n",
       "    }\n",
       "\n",
       "    .dataframe tbody tr th {\n",
       "        vertical-align: top;\n",
       "    }\n",
       "\n",
       "    .dataframe thead th {\n",
       "        text-align: right;\n",
       "    }\n",
       "</style>\n",
       "<table border=\"1\" class=\"dataframe\">\n",
       "  <thead>\n",
       "    <tr style=\"text-align: right;\">\n",
       "      <th></th>\n",
       "      <th>timestamp</th>\n",
       "      <th>cell</th>\n",
       "    </tr>\n",
       "  </thead>\n",
       "  <tbody>\n",
       "    <tr>\n",
       "      <th>0</th>\n",
       "      <td>6.0322</td>\n",
       "      <td>1.0</td>\n",
       "    </tr>\n",
       "    <tr>\n",
       "      <th>1</th>\n",
       "      <td>7.6991</td>\n",
       "      <td>1.0</td>\n",
       "    </tr>\n",
       "    <tr>\n",
       "      <th>2</th>\n",
       "      <td>8.2325</td>\n",
       "      <td>1.0</td>\n",
       "    </tr>\n",
       "    <tr>\n",
       "      <th>3</th>\n",
       "      <td>8.6552</td>\n",
       "      <td>1.0</td>\n",
       "    </tr>\n",
       "    <tr>\n",
       "      <th>4</th>\n",
       "      <td>21.5043</td>\n",
       "      <td>1.0</td>\n",
       "    </tr>\n",
       "    <tr>\n",
       "      <th>...</th>\n",
       "      <td>...</td>\n",
       "      <td>...</td>\n",
       "    </tr>\n",
       "    <tr>\n",
       "      <th>1107202</th>\n",
       "      <td>7119.1266</td>\n",
       "      <td>27.0</td>\n",
       "    </tr>\n",
       "    <tr>\n",
       "      <th>1107203</th>\n",
       "      <td>7119.1470</td>\n",
       "      <td>27.0</td>\n",
       "    </tr>\n",
       "    <tr>\n",
       "      <th>1107204</th>\n",
       "      <td>7119.1672</td>\n",
       "      <td>27.0</td>\n",
       "    </tr>\n",
       "    <tr>\n",
       "      <th>1107205</th>\n",
       "      <td>7119.4356</td>\n",
       "      <td>27.0</td>\n",
       "    </tr>\n",
       "    <tr>\n",
       "      <th>1107206</th>\n",
       "      <td>7119.4920</td>\n",
       "      <td>27.0</td>\n",
       "    </tr>\n",
       "  </tbody>\n",
       "</table>\n",
       "<p>1107207 rows × 2 columns</p>\n",
       "</div>"
      ],
      "text/plain": [
       "         timestamp  cell\n",
       "0           6.0322   1.0\n",
       "1           7.6991   1.0\n",
       "2           8.2325   1.0\n",
       "3           8.6552   1.0\n",
       "4          21.5043   1.0\n",
       "...            ...   ...\n",
       "1107202  7119.1266  27.0\n",
       "1107203  7119.1470  27.0\n",
       "1107204  7119.1672  27.0\n",
       "1107205  7119.4356  27.0\n",
       "1107206  7119.4920  27.0\n",
       "\n",
       "[1107207 rows x 2 columns]"
      ]
     },
     "execution_count": 242,
     "metadata": {},
     "output_type": "execute_result"
    }
   ],
   "source": [
    "data"
   ]
  },
  {
   "cell_type": "code",
   "execution_count": 216,
   "id": "bc0ce0a8",
   "metadata": {},
   "outputs": [],
   "source": [
    "neuron_1 = data.loc[data['cell']==1]"
   ]
  },
  {
   "cell_type": "code",
   "execution_count": 217,
   "id": "f25ab41c",
   "metadata": {},
   "outputs": [
    {
     "data": {
      "text/html": [
       "<div>\n",
       "<style scoped>\n",
       "    .dataframe tbody tr th:only-of-type {\n",
       "        vertical-align: middle;\n",
       "    }\n",
       "\n",
       "    .dataframe tbody tr th {\n",
       "        vertical-align: top;\n",
       "    }\n",
       "\n",
       "    .dataframe thead th {\n",
       "        text-align: right;\n",
       "    }\n",
       "</style>\n",
       "<table border=\"1\" class=\"dataframe\">\n",
       "  <thead>\n",
       "    <tr style=\"text-align: right;\">\n",
       "      <th></th>\n",
       "      <th>timestamp</th>\n",
       "      <th>cell</th>\n",
       "    </tr>\n",
       "  </thead>\n",
       "  <tbody>\n",
       "    <tr>\n",
       "      <th>0</th>\n",
       "      <td>6.0322</td>\n",
       "      <td>1.0</td>\n",
       "    </tr>\n",
       "    <tr>\n",
       "      <th>1</th>\n",
       "      <td>7.6991</td>\n",
       "      <td>1.0</td>\n",
       "    </tr>\n",
       "    <tr>\n",
       "      <th>2</th>\n",
       "      <td>8.2325</td>\n",
       "      <td>1.0</td>\n",
       "    </tr>\n",
       "    <tr>\n",
       "      <th>3</th>\n",
       "      <td>8.6552</td>\n",
       "      <td>1.0</td>\n",
       "    </tr>\n",
       "    <tr>\n",
       "      <th>4</th>\n",
       "      <td>21.5043</td>\n",
       "      <td>1.0</td>\n",
       "    </tr>\n",
       "    <tr>\n",
       "      <th>...</th>\n",
       "      <td>...</td>\n",
       "      <td>...</td>\n",
       "    </tr>\n",
       "    <tr>\n",
       "      <th>17965</th>\n",
       "      <td>7117.6131</td>\n",
       "      <td>1.0</td>\n",
       "    </tr>\n",
       "    <tr>\n",
       "      <th>17966</th>\n",
       "      <td>7118.0181</td>\n",
       "      <td>1.0</td>\n",
       "    </tr>\n",
       "    <tr>\n",
       "      <th>17967</th>\n",
       "      <td>7118.2969</td>\n",
       "      <td>1.0</td>\n",
       "    </tr>\n",
       "    <tr>\n",
       "      <th>17968</th>\n",
       "      <td>7118.3492</td>\n",
       "      <td>1.0</td>\n",
       "    </tr>\n",
       "    <tr>\n",
       "      <th>17969</th>\n",
       "      <td>7118.4373</td>\n",
       "      <td>1.0</td>\n",
       "    </tr>\n",
       "  </tbody>\n",
       "</table>\n",
       "<p>17970 rows × 2 columns</p>\n",
       "</div>"
      ],
      "text/plain": [
       "       timestamp  cell\n",
       "0         6.0322   1.0\n",
       "1         7.6991   1.0\n",
       "2         8.2325   1.0\n",
       "3         8.6552   1.0\n",
       "4        21.5043   1.0\n",
       "...          ...   ...\n",
       "17965  7117.6131   1.0\n",
       "17966  7118.0181   1.0\n",
       "17967  7118.2969   1.0\n",
       "17968  7118.3492   1.0\n",
       "17969  7118.4373   1.0\n",
       "\n",
       "[17970 rows x 2 columns]"
      ]
     },
     "execution_count": 217,
     "metadata": {},
     "output_type": "execute_result"
    }
   ],
   "source": [
    "neuron_1"
   ]
  },
  {
   "cell_type": "code",
   "execution_count": 7,
   "id": "9a1c318d",
   "metadata": {},
   "outputs": [],
   "source": [
    "def isi_estimate(spike_times):\n",
    "    isi = []\n",
    "    for timestamp in range(len(spike_times)-1):\n",
    "        current_isi = spike_times[timestamp+1] - spike_times[timestamp]\n",
    "        isi.append(current_isi)\n",
    "    return isi"
   ]
  },
  {
   "cell_type": "code",
   "execution_count": 219,
   "id": "fb431650",
   "metadata": {},
   "outputs": [],
   "source": [
    "example_isi = isi_estimate(neuron_1['timestamp'])"
   ]
  },
  {
   "cell_type": "code",
   "execution_count": 220,
   "id": "fd01f53a",
   "metadata": {},
   "outputs": [
    {
     "name": "stdout",
     "output_type": "stream",
     "text": [
      "0.395815298569759 1.5542106336778823\n",
      "0.25467288023445195\n"
     ]
    }
   ],
   "source": [
    "mean = np.mean(example_isi)\n",
    "std = np.std(example_isi)\n",
    "print(mean,std)\n",
    "print(mean/std)"
   ]
  },
  {
   "cell_type": "code",
   "execution_count": 221,
   "id": "c0502e78",
   "metadata": {},
   "outputs": [
    {
     "data": {
      "text/plain": [
       "[1.666900000000001,\n",
       " 0.5333999999999994,\n",
       " 0.42270000000000074,\n",
       " 12.8491,\n",
       " 0.7635000000000005,\n",
       " 0.013700000000000045,\n",
       " 0.05729999999999791,\n",
       " 2.672900000000002,\n",
       " 5.569800000000001,\n",
       " 6.353800000000003]"
      ]
     },
     "execution_count": 221,
     "metadata": {},
     "output_type": "execute_result"
    }
   ],
   "source": [
    "example_isi[:10]"
   ]
  },
  {
   "cell_type": "code",
   "execution_count": 222,
   "id": "b58ec0e4",
   "metadata": {},
   "outputs": [],
   "source": [
    "bins = np.arange(0,3,0.05)"
   ]
  },
  {
   "cell_type": "code",
   "execution_count": 223,
   "id": "8c5689a6",
   "metadata": {},
   "outputs": [],
   "source": [
    "import statistics\n"
   ]
  },
  {
   "cell_type": "code",
   "execution_count": 224,
   "id": "452e4bba",
   "metadata": {},
   "outputs": [
    {
     "data": {
      "text/plain": [
       "(array([6006., 3785., 1849., 1027.,  665.,  459.,  346.,  283.,  246.,\n",
       "         195.,  187.,  172.,  151.,  116.,  123.,  122.,  102.,   84.,\n",
       "          95.,   73.,   70.,   73.,   79.,   66.,   72.,   67.,   64.,\n",
       "          51.,   53.,   44.,   49.,   56.,   47.,   56.,   31.,   23.,\n",
       "          32.,   29.,   28.,   27.,   28.,   36.,   31.,   31.,   31.,\n",
       "          26.,   25.,   18.,   28.,   19.,   15.,   10.,   24.,   19.,\n",
       "          18.,   16.,   17.,   15.,   11.]),\n",
       " array([0.  , 0.05, 0.1 , 0.15, 0.2 , 0.25, 0.3 , 0.35, 0.4 , 0.45, 0.5 ,\n",
       "        0.55, 0.6 , 0.65, 0.7 , 0.75, 0.8 , 0.85, 0.9 , 0.95, 1.  , 1.05,\n",
       "        1.1 , 1.15, 1.2 , 1.25, 1.3 , 1.35, 1.4 , 1.45, 1.5 , 1.55, 1.6 ,\n",
       "        1.65, 1.7 , 1.75, 1.8 , 1.85, 1.9 , 1.95, 2.  , 2.05, 2.1 , 2.15,\n",
       "        2.2 , 2.25, 2.3 , 2.35, 2.4 , 2.45, 2.5 , 2.55, 2.6 , 2.65, 2.7 ,\n",
       "        2.75, 2.8 , 2.85, 2.9 , 2.95]),\n",
       " <BarContainer object of 59 artists>)"
      ]
     },
     "execution_count": 224,
     "metadata": {},
     "output_type": "execute_result"
    },
    {
     "data": {
      "image/png": "[encoded data removed]",
      "text/plain": [
       "<Figure size 432x288 with 1 Axes>"
      ]
     },
     "metadata": {
      "needs_background": "light"
     },
     "output_type": "display_data"
    }
   ],
   "source": [
    "plt.axvline(statistics.mode(example_isi), color='r', linestyle='dashed', linewidth=1)\n",
    "plt.axvline(np.mean(example_isi), color='k', linestyle='dashed', linewidth=1)\n",
    "plt.xlabel('Intervalo entre spikes consecutivos (ISI) [s]')\n",
    "plt.ylabel('Número de spikes')\n",
    "plt.hist(example_isi,bins)"
   ]
  },
  {
   "cell_type": "code",
   "execution_count": 225,
   "id": "38cf9304",
   "metadata": {},
   "outputs": [
    {
     "data": {
      "text/html": [
       "<div>\n",
       "<style scoped>\n",
       "    .dataframe tbody tr th:only-of-type {\n",
       "        vertical-align: middle;\n",
       "    }\n",
       "\n",
       "    .dataframe tbody tr th {\n",
       "        vertical-align: top;\n",
       "    }\n",
       "\n",
       "    .dataframe thead th {\n",
       "        text-align: right;\n",
       "    }\n",
       "</style>\n",
       "<table border=\"1\" class=\"dataframe\">\n",
       "  <thead>\n",
       "    <tr style=\"text-align: right;\">\n",
       "      <th></th>\n",
       "      <th>trial_start</th>\n",
       "      <th>trial_end</th>\n",
       "      <th>rule</th>\n",
       "      <th>reward</th>\n",
       "      <th>turn_side</th>\n",
       "      <th>light_side</th>\n",
       "    </tr>\n",
       "  </thead>\n",
       "  <tbody>\n",
       "    <tr>\n",
       "      <th>0</th>\n",
       "      <td>2046699.6</td>\n",
       "      <td>2053336.2</td>\n",
       "      <td>2.0</td>\n",
       "      <td>1.0</td>\n",
       "      <td>0.0</td>\n",
       "      <td>0.0</td>\n",
       "    </tr>\n",
       "    <tr>\n",
       "      <th>1</th>\n",
       "      <td>2120769.4</td>\n",
       "      <td>2128239.8</td>\n",
       "      <td>2.0</td>\n",
       "      <td>0.0</td>\n",
       "      <td>0.0</td>\n",
       "      <td>1.0</td>\n",
       "    </tr>\n",
       "    <tr>\n",
       "      <th>2</th>\n",
       "      <td>2163824.0</td>\n",
       "      <td>2168159.4</td>\n",
       "      <td>2.0</td>\n",
       "      <td>1.0</td>\n",
       "      <td>1.0</td>\n",
       "      <td>1.0</td>\n",
       "    </tr>\n",
       "    <tr>\n",
       "      <th>3</th>\n",
       "      <td>2336475.7</td>\n",
       "      <td>2339710.7</td>\n",
       "      <td>2.0</td>\n",
       "      <td>0.0</td>\n",
       "      <td>0.0</td>\n",
       "      <td>1.0</td>\n",
       "    </tr>\n",
       "    <tr>\n",
       "      <th>4</th>\n",
       "      <td>2377129.1</td>\n",
       "      <td>2383465.6</td>\n",
       "      <td>2.0</td>\n",
       "      <td>0.0</td>\n",
       "      <td>1.0</td>\n",
       "      <td>0.0</td>\n",
       "    </tr>\n",
       "    <tr>\n",
       "      <th>5</th>\n",
       "      <td>2470842.0</td>\n",
       "      <td>2474076.9</td>\n",
       "      <td>2.0</td>\n",
       "      <td>1.0</td>\n",
       "      <td>0.0</td>\n",
       "      <td>0.0</td>\n",
       "    </tr>\n",
       "    <tr>\n",
       "      <th>6</th>\n",
       "      <td>2537441.5</td>\n",
       "      <td>2542610.7</td>\n",
       "      <td>2.0</td>\n",
       "      <td>0.0</td>\n",
       "      <td>0.0</td>\n",
       "      <td>1.0</td>\n",
       "    </tr>\n",
       "    <tr>\n",
       "      <th>7</th>\n",
       "      <td>2592135.1</td>\n",
       "      <td>2596737.4</td>\n",
       "      <td>2.0</td>\n",
       "      <td>1.0</td>\n",
       "      <td>1.0</td>\n",
       "      <td>1.0</td>\n",
       "    </tr>\n",
       "    <tr>\n",
       "      <th>8</th>\n",
       "      <td>2685881.3</td>\n",
       "      <td>2690183.4</td>\n",
       "      <td>2.0</td>\n",
       "      <td>1.0</td>\n",
       "      <td>0.0</td>\n",
       "      <td>0.0</td>\n",
       "    </tr>\n",
       "    <tr>\n",
       "      <th>9</th>\n",
       "      <td>2787664.8</td>\n",
       "      <td>2791199.9</td>\n",
       "      <td>2.0</td>\n",
       "      <td>1.0</td>\n",
       "      <td>0.0</td>\n",
       "      <td>0.0</td>\n",
       "    </tr>\n",
       "    <tr>\n",
       "      <th>10</th>\n",
       "      <td>2840891.0</td>\n",
       "      <td>2844993.1</td>\n",
       "      <td>2.0</td>\n",
       "      <td>1.0</td>\n",
       "      <td>1.0</td>\n",
       "      <td>1.0</td>\n",
       "    </tr>\n",
       "    <tr>\n",
       "      <th>11</th>\n",
       "      <td>2919263.0</td>\n",
       "      <td>2923331.7</td>\n",
       "      <td>2.0</td>\n",
       "      <td>1.0</td>\n",
       "      <td>0.0</td>\n",
       "      <td>0.0</td>\n",
       "    </tr>\n",
       "    <tr>\n",
       "      <th>12</th>\n",
       "      <td>2967786.9</td>\n",
       "      <td>2972722.7</td>\n",
       "      <td>2.0</td>\n",
       "      <td>0.0</td>\n",
       "      <td>0.0</td>\n",
       "      <td>1.0</td>\n",
       "    </tr>\n",
       "    <tr>\n",
       "      <th>13</th>\n",
       "      <td>3000369.6</td>\n",
       "      <td>3005138.7</td>\n",
       "      <td>2.0</td>\n",
       "      <td>0.0</td>\n",
       "      <td>1.0</td>\n",
       "      <td>0.0</td>\n",
       "    </tr>\n",
       "    <tr>\n",
       "      <th>14</th>\n",
       "      <td>3051594.9</td>\n",
       "      <td>3055163.3</td>\n",
       "      <td>2.0</td>\n",
       "      <td>1.0</td>\n",
       "      <td>0.0</td>\n",
       "      <td>0.0</td>\n",
       "    </tr>\n",
       "    <tr>\n",
       "      <th>15</th>\n",
       "      <td>3108456.3</td>\n",
       "      <td>3113358.7</td>\n",
       "      <td>2.0</td>\n",
       "      <td>0.0</td>\n",
       "      <td>0.0</td>\n",
       "      <td>1.0</td>\n",
       "    </tr>\n",
       "    <tr>\n",
       "      <th>16</th>\n",
       "      <td>3162616.3</td>\n",
       "      <td>3165884.6</td>\n",
       "      <td>2.0</td>\n",
       "      <td>1.0</td>\n",
       "      <td>0.0</td>\n",
       "      <td>0.0</td>\n",
       "    </tr>\n",
       "    <tr>\n",
       "      <th>17</th>\n",
       "      <td>3219577.7</td>\n",
       "      <td>3223446.3</td>\n",
       "      <td>2.0</td>\n",
       "      <td>1.0</td>\n",
       "      <td>1.0</td>\n",
       "      <td>1.0</td>\n",
       "    </tr>\n",
       "    <tr>\n",
       "      <th>18</th>\n",
       "      <td>3306587.2</td>\n",
       "      <td>3310655.9</td>\n",
       "      <td>2.0</td>\n",
       "      <td>1.0</td>\n",
       "      <td>0.0</td>\n",
       "      <td>0.0</td>\n",
       "    </tr>\n",
       "    <tr>\n",
       "      <th>19</th>\n",
       "      <td>3401367.3</td>\n",
       "      <td>3403868.5</td>\n",
       "      <td>2.0</td>\n",
       "      <td>0.0</td>\n",
       "      <td>0.0</td>\n",
       "      <td>1.0</td>\n",
       "    </tr>\n",
       "    <tr>\n",
       "      <th>20</th>\n",
       "      <td>3432449.3</td>\n",
       "      <td>3436451.3</td>\n",
       "      <td>2.0</td>\n",
       "      <td>0.0</td>\n",
       "      <td>0.0</td>\n",
       "      <td>1.0</td>\n",
       "    </tr>\n",
       "    <tr>\n",
       "      <th>21</th>\n",
       "      <td>3460296.3</td>\n",
       "      <td>3465365.5</td>\n",
       "      <td>2.0</td>\n",
       "      <td>1.0</td>\n",
       "      <td>0.0</td>\n",
       "      <td>0.0</td>\n",
       "    </tr>\n",
       "    <tr>\n",
       "      <th>22</th>\n",
       "      <td>3515323.5</td>\n",
       "      <td>3519825.7</td>\n",
       "      <td>2.0</td>\n",
       "      <td>1.0</td>\n",
       "      <td>1.0</td>\n",
       "      <td>1.0</td>\n",
       "    </tr>\n",
       "    <tr>\n",
       "      <th>23</th>\n",
       "      <td>3597730.8</td>\n",
       "      <td>3600665.5</td>\n",
       "      <td>2.0</td>\n",
       "      <td>1.0</td>\n",
       "      <td>0.0</td>\n",
       "      <td>0.0</td>\n",
       "    </tr>\n",
       "    <tr>\n",
       "      <th>24</th>\n",
       "      <td>3637517.0</td>\n",
       "      <td>3641785.8</td>\n",
       "      <td>2.0</td>\n",
       "      <td>1.0</td>\n",
       "      <td>0.0</td>\n",
       "      <td>0.0</td>\n",
       "    </tr>\n",
       "    <tr>\n",
       "      <th>25</th>\n",
       "      <td>3697413.2</td>\n",
       "      <td>3701615.3</td>\n",
       "      <td>2.0</td>\n",
       "      <td>0.0</td>\n",
       "      <td>0.0</td>\n",
       "      <td>1.0</td>\n",
       "    </tr>\n",
       "    <tr>\n",
       "      <th>26</th>\n",
       "      <td>3735365.3</td>\n",
       "      <td>3739867.5</td>\n",
       "      <td>2.0</td>\n",
       "      <td>1.0</td>\n",
       "      <td>0.0</td>\n",
       "      <td>0.0</td>\n",
       "    </tr>\n",
       "    <tr>\n",
       "      <th>27</th>\n",
       "      <td>3776852.4</td>\n",
       "      <td>3780220.7</td>\n",
       "      <td>2.0</td>\n",
       "      <td>1.0</td>\n",
       "      <td>0.0</td>\n",
       "      <td>0.0</td>\n",
       "    </tr>\n",
       "    <tr>\n",
       "      <th>28</th>\n",
       "      <td>3833313.5</td>\n",
       "      <td>3837315.5</td>\n",
       "      <td>2.0</td>\n",
       "      <td>0.0</td>\n",
       "      <td>0.0</td>\n",
       "      <td>1.0</td>\n",
       "    </tr>\n",
       "    <tr>\n",
       "      <th>29</th>\n",
       "      <td>3854123.8</td>\n",
       "      <td>3858926.2</td>\n",
       "      <td>2.0</td>\n",
       "      <td>0.0</td>\n",
       "      <td>0.0</td>\n",
       "      <td>1.0</td>\n",
       "    </tr>\n",
       "    <tr>\n",
       "      <th>30</th>\n",
       "      <td>3881804.1</td>\n",
       "      <td>3886873.3</td>\n",
       "      <td>2.0</td>\n",
       "      <td>1.0</td>\n",
       "      <td>1.0</td>\n",
       "      <td>1.0</td>\n",
       "    </tr>\n",
       "    <tr>\n",
       "      <th>31</th>\n",
       "      <td>3962810.7</td>\n",
       "      <td>3965945.6</td>\n",
       "      <td>2.0</td>\n",
       "      <td>1.0</td>\n",
       "      <td>0.0</td>\n",
       "      <td>0.0</td>\n",
       "    </tr>\n",
       "    <tr>\n",
       "      <th>32</th>\n",
       "      <td>3997294.4</td>\n",
       "      <td>4004097.7</td>\n",
       "      <td>2.0</td>\n",
       "      <td>1.0</td>\n",
       "      <td>1.0</td>\n",
       "      <td>1.0</td>\n",
       "    </tr>\n",
       "    <tr>\n",
       "      <th>33</th>\n",
       "      <td>4059258.2</td>\n",
       "      <td>4063060.1</td>\n",
       "      <td>2.0</td>\n",
       "      <td>1.0</td>\n",
       "      <td>0.0</td>\n",
       "      <td>0.0</td>\n",
       "    </tr>\n",
       "    <tr>\n",
       "      <th>34</th>\n",
       "      <td>4112651.2</td>\n",
       "      <td>4115185.8</td>\n",
       "      <td>2.0</td>\n",
       "      <td>0.0</td>\n",
       "      <td>1.0</td>\n",
       "      <td>0.0</td>\n",
       "    </tr>\n",
       "    <tr>\n",
       "      <th>35</th>\n",
       "      <td>4130493.4</td>\n",
       "      <td>4135762.6</td>\n",
       "      <td>2.0</td>\n",
       "      <td>0.0</td>\n",
       "      <td>0.0</td>\n",
       "      <td>1.0</td>\n",
       "    </tr>\n",
       "    <tr>\n",
       "      <th>36</th>\n",
       "      <td>4160408.1</td>\n",
       "      <td>4166677.9</td>\n",
       "      <td>2.0</td>\n",
       "      <td>1.0</td>\n",
       "      <td>1.0</td>\n",
       "      <td>1.0</td>\n",
       "    </tr>\n",
       "    <tr>\n",
       "      <th>37</th>\n",
       "      <td>4223872.7</td>\n",
       "      <td>4229442.1</td>\n",
       "      <td>2.0</td>\n",
       "      <td>1.0</td>\n",
       "      <td>0.0</td>\n",
       "      <td>0.0</td>\n",
       "    </tr>\n",
       "    <tr>\n",
       "      <th>38</th>\n",
       "      <td>4262892.0</td>\n",
       "      <td>4266493.7</td>\n",
       "      <td>2.0</td>\n",
       "      <td>1.0</td>\n",
       "      <td>1.0</td>\n",
       "      <td>1.0</td>\n",
       "    </tr>\n",
       "    <tr>\n",
       "      <th>39</th>\n",
       "      <td>4316451.7</td>\n",
       "      <td>4321987.7</td>\n",
       "      <td>2.0</td>\n",
       "      <td>1.0</td>\n",
       "      <td>0.0</td>\n",
       "      <td>0.0</td>\n",
       "    </tr>\n",
       "    <tr>\n",
       "      <th>40</th>\n",
       "      <td>4358372.3</td>\n",
       "      <td>4363908.4</td>\n",
       "      <td>2.0</td>\n",
       "      <td>1.0</td>\n",
       "      <td>0.0</td>\n",
       "      <td>0.0</td>\n",
       "    </tr>\n",
       "    <tr>\n",
       "      <th>41</th>\n",
       "      <td>4396291.0</td>\n",
       "      <td>4402260.6</td>\n",
       "      <td>2.0</td>\n",
       "      <td>1.0</td>\n",
       "      <td>1.0</td>\n",
       "      <td>1.0</td>\n",
       "    </tr>\n",
       "    <tr>\n",
       "      <th>42</th>\n",
       "      <td>4448917.0</td>\n",
       "      <td>4453752.7</td>\n",
       "      <td>2.0</td>\n",
       "      <td>1.0</td>\n",
       "      <td>0.0</td>\n",
       "      <td>0.0</td>\n",
       "    </tr>\n",
       "    <tr>\n",
       "      <th>43</th>\n",
       "      <td>4488736.6</td>\n",
       "      <td>4491504.6</td>\n",
       "      <td>2.0</td>\n",
       "      <td>1.0</td>\n",
       "      <td>1.0</td>\n",
       "      <td>1.0</td>\n",
       "    </tr>\n",
       "    <tr>\n",
       "      <th>44</th>\n",
       "      <td>4572011.0</td>\n",
       "      <td>4574979.1</td>\n",
       "      <td>2.0</td>\n",
       "      <td>1.0</td>\n",
       "      <td>0.0</td>\n",
       "      <td>0.0</td>\n",
       "    </tr>\n",
       "    <tr>\n",
       "      <th>45</th>\n",
       "      <td>4606994.9</td>\n",
       "      <td>4614165.1</td>\n",
       "      <td>2.0</td>\n",
       "      <td>0.0</td>\n",
       "      <td>1.0</td>\n",
       "      <td>0.0</td>\n",
       "    </tr>\n",
       "    <tr>\n",
       "      <th>46</th>\n",
       "      <td>4629606.0</td>\n",
       "      <td>4633474.6</td>\n",
       "      <td>2.0</td>\n",
       "      <td>1.0</td>\n",
       "      <td>1.0</td>\n",
       "      <td>1.0</td>\n",
       "    </tr>\n",
       "    <tr>\n",
       "      <th>47</th>\n",
       "      <td>4667791.5</td>\n",
       "      <td>4673794.5</td>\n",
       "      <td>2.0</td>\n",
       "      <td>0.0</td>\n",
       "      <td>0.0</td>\n",
       "      <td>1.0</td>\n",
       "    </tr>\n",
       "  </tbody>\n",
       "</table>\n",
       "</div>"
      ],
      "text/plain": [
       "    trial_start  trial_end  rule  reward  turn_side  light_side\n",
       "0     2046699.6  2053336.2   2.0     1.0        0.0         0.0\n",
       "1     2120769.4  2128239.8   2.0     0.0        0.0         1.0\n",
       "2     2163824.0  2168159.4   2.0     1.0        1.0         1.0\n",
       "3     2336475.7  2339710.7   2.0     0.0        0.0         1.0\n",
       "4     2377129.1  2383465.6   2.0     0.0        1.0         0.0\n",
       "5     2470842.0  2474076.9   2.0     1.0        0.0         0.0\n",
       "6     2537441.5  2542610.7   2.0     0.0        0.0         1.0\n",
       "7     2592135.1  2596737.4   2.0     1.0        1.0         1.0\n",
       "8     2685881.3  2690183.4   2.0     1.0        0.0         0.0\n",
       "9     2787664.8  2791199.9   2.0     1.0        0.0         0.0\n",
       "10    2840891.0  2844993.1   2.0     1.0        1.0         1.0\n",
       "11    2919263.0  2923331.7   2.0     1.0        0.0         0.0\n",
       "12    2967786.9  2972722.7   2.0     0.0        0.0         1.0\n",
       "13    3000369.6  3005138.7   2.0     0.0        1.0         0.0\n",
       "14    3051594.9  3055163.3   2.0     1.0        0.0         0.0\n",
       "15    3108456.3  3113358.7   2.0     0.0        0.0         1.0\n",
       "16    3162616.3  3165884.6   2.0     1.0        0.0         0.0\n",
       "17    3219577.7  3223446.3   2.0     1.0        1.0         1.0\n",
       "18    3306587.2  3310655.9   2.0     1.0        0.0         0.0\n",
       "19    3401367.3  3403868.5   2.0     0.0        0.0         1.0\n",
       "20    3432449.3  3436451.3   2.0     0.0        0.0         1.0\n",
       "21    3460296.3  3465365.5   2.0     1.0        0.0         0.0\n",
       "22    3515323.5  3519825.7   2.0     1.0        1.0         1.0\n",
       "23    3597730.8  3600665.5   2.0     1.0        0.0         0.0\n",
       "24    3637517.0  3641785.8   2.0     1.0        0.0         0.0\n",
       "25    3697413.2  3701615.3   2.0     0.0        0.0         1.0\n",
       "26    3735365.3  3739867.5   2.0     1.0        0.0         0.0\n",
       "27    3776852.4  3780220.7   2.0     1.0        0.0         0.0\n",
       "28    3833313.5  3837315.5   2.0     0.0        0.0         1.0\n",
       "29    3854123.8  3858926.2   2.0     0.0        0.0         1.0\n",
       "30    3881804.1  3886873.3   2.0     1.0        1.0         1.0\n",
       "31    3962810.7  3965945.6   2.0     1.0        0.0         0.0\n",
       "32    3997294.4  4004097.7   2.0     1.0        1.0         1.0\n",
       "33    4059258.2  4063060.1   2.0     1.0        0.0         0.0\n",
       "34    4112651.2  4115185.8   2.0     0.0        1.0         0.0\n",
       "35    4130493.4  4135762.6   2.0     0.0        0.0         1.0\n",
       "36    4160408.1  4166677.9   2.0     1.0        1.0         1.0\n",
       "37    4223872.7  4229442.1   2.0     1.0        0.0         0.0\n",
       "38    4262892.0  4266493.7   2.0     1.0        1.0         1.0\n",
       "39    4316451.7  4321987.7   2.0     1.0        0.0         0.0\n",
       "40    4358372.3  4363908.4   2.0     1.0        0.0         0.0\n",
       "41    4396291.0  4402260.6   2.0     1.0        1.0         1.0\n",
       "42    4448917.0  4453752.7   2.0     1.0        0.0         0.0\n",
       "43    4488736.6  4491504.6   2.0     1.0        1.0         1.0\n",
       "44    4572011.0  4574979.1   2.0     1.0        0.0         0.0\n",
       "45    4606994.9  4614165.1   2.0     0.0        1.0         0.0\n",
       "46    4629606.0  4633474.6   2.0     1.0        1.0         1.0\n",
       "47    4667791.5  4673794.5   2.0     0.0        0.0         1.0"
      ]
     },
     "execution_count": 225,
     "metadata": {},
     "output_type": "execute_result"
    }
   ],
   "source": [
    "trials"
   ]
  },
  {
   "cell_type": "code",
   "execution_count": 245,
   "id": "75d8d72c",
   "metadata": {},
   "outputs": [
    {
     "data": {
      "text/plain": [
       "trial_start    2046699.6\n",
       "trial_end      2053336.2\n",
       "rule                 2.0\n",
       "reward               1.0\n",
       "turn_side            0.0\n",
       "light_side           0.0\n",
       "Name: 0, dtype: float64"
      ]
     },
     "execution_count": 245,
     "metadata": {},
     "output_type": "execute_result"
    }
   ],
   "source": [
    "trials.iloc[0]"
   ]
  },
  {
   "cell_type": "code",
   "execution_count": 227,
   "id": "a5001505",
   "metadata": {},
   "outputs": [
    {
     "data": {
      "text/plain": [
       "0             6.0322\n",
       "1             7.6991\n",
       "2             8.2325\n",
       "3             8.6552\n",
       "4            21.5043\n",
       "             ...    \n",
       "1107202    7119.1266\n",
       "1107203    7119.1470\n",
       "1107204    7119.1672\n",
       "1107205    7119.4356\n",
       "1107206    7119.4920\n",
       "Name: timestamp, Length: 1107207, dtype: float64"
      ]
     },
     "execution_count": 227,
     "metadata": {},
     "output_type": "execute_result"
    }
   ],
   "source": [
    "data['timestamp']"
   ]
  },
  {
   "cell_type": "code",
   "execution_count": 246,
   "id": "ab6ec86f",
   "metadata": {},
   "outputs": [
    {
     "data": {
      "text/html": [
       "<div>\n",
       "<style scoped>\n",
       "    .dataframe tbody tr th:only-of-type {\n",
       "        vertical-align: middle;\n",
       "    }\n",
       "\n",
       "    .dataframe tbody tr th {\n",
       "        vertical-align: top;\n",
       "    }\n",
       "\n",
       "    .dataframe thead th {\n",
       "        text-align: right;\n",
       "    }\n",
       "</style>\n",
       "<table border=\"1\" class=\"dataframe\">\n",
       "  <thead>\n",
       "    <tr style=\"text-align: right;\">\n",
       "      <th></th>\n",
       "      <th>timestamp</th>\n",
       "      <th>cell</th>\n",
       "    </tr>\n",
       "  </thead>\n",
       "  <tbody>\n",
       "    <tr>\n",
       "      <th>1705</th>\n",
       "      <td>2047.5017</td>\n",
       "      <td>1.0</td>\n",
       "    </tr>\n",
       "    <tr>\n",
       "      <th>1706</th>\n",
       "      <td>2052.4002</td>\n",
       "      <td>1.0</td>\n",
       "    </tr>\n",
       "    <tr>\n",
       "      <th>24559</th>\n",
       "      <td>2046.7083</td>\n",
       "      <td>2.0</td>\n",
       "    </tr>\n",
       "    <tr>\n",
       "      <th>24560</th>\n",
       "      <td>2047.1147</td>\n",
       "      <td>2.0</td>\n",
       "    </tr>\n",
       "    <tr>\n",
       "      <th>24561</th>\n",
       "      <td>2047.1921</td>\n",
       "      <td>2.0</td>\n",
       "    </tr>\n",
       "    <tr>\n",
       "      <th>...</th>\n",
       "      <td>...</td>\n",
       "      <td>...</td>\n",
       "    </tr>\n",
       "    <tr>\n",
       "      <th>1056259</th>\n",
       "      <td>2050.7781</td>\n",
       "      <td>27.0</td>\n",
       "    </tr>\n",
       "    <tr>\n",
       "      <th>1056260</th>\n",
       "      <td>2051.0686</td>\n",
       "      <td>27.0</td>\n",
       "    </tr>\n",
       "    <tr>\n",
       "      <th>1056261</th>\n",
       "      <td>2051.4120</td>\n",
       "      <td>27.0</td>\n",
       "    </tr>\n",
       "    <tr>\n",
       "      <th>1056262</th>\n",
       "      <td>2051.6796</td>\n",
       "      <td>27.0</td>\n",
       "    </tr>\n",
       "    <tr>\n",
       "      <th>1056263</th>\n",
       "      <td>2051.7772</td>\n",
       "      <td>27.0</td>\n",
       "    </tr>\n",
       "  </tbody>\n",
       "</table>\n",
       "<p>1316 rows × 2 columns</p>\n",
       "</div>"
      ],
      "text/plain": [
       "         timestamp  cell\n",
       "1705     2047.5017   1.0\n",
       "1706     2052.4002   1.0\n",
       "24559    2046.7083   2.0\n",
       "24560    2047.1147   2.0\n",
       "24561    2047.1921   2.0\n",
       "...            ...   ...\n",
       "1056259  2050.7781  27.0\n",
       "1056260  2051.0686  27.0\n",
       "1056261  2051.4120  27.0\n",
       "1056262  2051.6796  27.0\n",
       "1056263  2051.7772  27.0\n",
       "\n",
       "[1316 rows x 2 columns]"
      ]
     },
     "execution_count": 246,
     "metadata": {},
     "output_type": "execute_result"
    }
   ],
   "source": [
    "first_trial = data.loc[(data['timestamp'] >= trials.iloc[0].trial_start*0.001) &\n",
    "                       (data['timestamp'] <= trials.iloc[0].trial_end*0.001)]\n",
    "first_trial"
   ]
  },
  {
   "cell_type": "code",
   "execution_count": 247,
   "id": "0cc3a25d",
   "metadata": {},
   "outputs": [
    {
     "data": {
      "text/plain": [
       "(array([125., 109., 163., 144., 127., 133., 139., 141., 128., 107.]),\n",
       " array([2046.7054 , 2047.36804, 2048.03068, 2048.69332, 2049.35596,\n",
       "        2050.0186 , 2050.68124, 2051.34388, 2052.00652, 2052.66916,\n",
       "        2053.3318 ]),\n",
       " <BarContainer object of 10 artists>)"
      ]
     },
     "execution_count": 247,
     "metadata": {},
     "output_type": "execute_result"
    },
    {
     "data": {
      "image/png": "[encoded data removed]",
      "text/plain": [
       "<Figure size 432x288 with 1 Axes>"
      ]
     },
     "metadata": {
      "needs_background": "light"
     },
     "output_type": "display_data"
    }
   ],
   "source": [
    "plt.hist(first_trial['timestamp'])"
   ]
  },
  {
   "cell_type": "code",
   "execution_count": 248,
   "id": "4094f698",
   "metadata": {},
   "outputs": [
    {
     "data": {
      "text/plain": [
       "1705       2047.5017\n",
       "1706       2052.4002\n",
       "24559      2046.7083\n",
       "24560      2047.1147\n",
       "24561      2047.1921\n",
       "             ...    \n",
       "1056259    2050.7781\n",
       "1056260    2051.0686\n",
       "1056261    2051.4120\n",
       "1056262    2051.6796\n",
       "1056263    2051.7772\n",
       "Name: timestamp, Length: 1316, dtype: float64"
      ]
     },
     "execution_count": 248,
     "metadata": {},
     "output_type": "execute_result"
    }
   ],
   "source": [
    "first_trial['timestamp']"
   ]
  },
  {
   "cell_type": "code",
   "execution_count": 249,
   "id": "4ab92c56",
   "metadata": {},
   "outputs": [
    {
     "name": "stderr",
     "output_type": "stream",
     "text": [
      "/tmp/ipykernel_6022/1351454659.py:3: SettingWithCopyWarning: \n",
      "A value is trying to be set on a copy of a slice from a DataFrame.\n",
      "Try using .loc[row_indexer,col_indexer] = value instead\n",
      "\n",
      "See the caveats in the documentation: https://pandas.pydata.org/pandas-docs/stable/user_guide/indexing.html#returning-a-view-versus-a-copy\n",
      "  first_trial['timestamp'] = first_trial['timestamp'].apply(lambda x: x - new_zero)\n"
     ]
    },
    {
     "data": {
      "text/plain": [
       "1705       0.7963\n",
       "1706       5.6948\n",
       "24559      0.0029\n",
       "24560      0.4093\n",
       "24561      0.4867\n",
       "            ...  \n",
       "1056259    4.0727\n",
       "1056260    4.3632\n",
       "1056261    4.7066\n",
       "1056262    4.9742\n",
       "1056263    5.0718\n",
       "Name: timestamp, Length: 1316, dtype: float64"
      ]
     },
     "execution_count": 249,
     "metadata": {},
     "output_type": "execute_result"
    }
   ],
   "source": [
    "#first_trial['timestamp'] = first_trial['timestamp'].apply(lambda x: x * time_conversion)\n",
    "new_zero = first_trial['timestamp'].min()\n",
    "first_trial['timestamp'] = first_trial['timestamp'].apply(lambda x: x - new_zero)\n",
    "first_trial['timestamp']"
   ]
  },
  {
   "cell_type": "code",
   "execution_count": 250,
   "id": "92968f96",
   "metadata": {},
   "outputs": [],
   "source": [
    "lesser_boundary = first_trial['timestamp'].min()\n",
    "upper_boundary = first_trial['timestamp'].max()"
   ]
  },
  {
   "cell_type": "code",
   "execution_count": 251,
   "id": "2aa65858",
   "metadata": {},
   "outputs": [
    {
     "data": {
      "text/plain": [
       "(array([ 71.,  76.,  63.,  83., 107.,  86.,  81.,  82.,  76.,  81.,  86.,\n",
       "         89.,  82.,  79.,  72.,  63.]),\n",
       " array([0. , 0.4, 0.8, 1.2, 1.6, 2. , 2.4, 2.8, 3.2, 3.6, 4. , 4.4, 4.8,\n",
       "        5.2, 5.6, 6. , 6.4]),\n",
       " <BarContainer object of 16 artists>)"
      ]
     },
     "execution_count": 251,
     "metadata": {},
     "output_type": "execute_result"
    },
    {
     "data": {
      "image/png": "[encoded data removed]",
      "text/plain": [
       "<Figure size 432x288 with 1 Axes>"
      ]
     },
     "metadata": {
      "needs_background": "light"
     },
     "output_type": "display_data"
    }
   ],
   "source": [
    "bins = np.arange(lesser_boundary,upper_boundary,0.4)\n",
    "plt.hist(first_trial['timestamp'],bins)"
   ]
  },
  {
   "cell_type": "code",
   "execution_count": 252,
   "id": "656497f1",
   "metadata": {},
   "outputs": [],
   "source": [
    "rates_gauss = windowed_signal(first_trial['timestamp'],starting_point=lesser_boundary,\n",
    "                              sampling_rate=0.01,kernel='gaussian',resolution=0.3)"
   ]
  },
  {
   "cell_type": "code",
   "execution_count": 253,
   "id": "9920ac19",
   "metadata": {
    "scrolled": true
   },
   "outputs": [
    {
     "data": {
      "text/plain": [
       "Text(0.5, 0, 'Time (s)')"
      ]
     },
     "execution_count": 253,
     "metadata": {},
     "output_type": "execute_result"
    },
    {
     "data": {
      "image/png": "[encoded data removed]",
      "text/plain": [
       "<Figure size 1080x360 with 1 Axes>"
      ]
     },
     "metadata": {
      "needs_background": "light"
     },
     "output_type": "display_data"
    }
   ],
   "source": [
    "normalised_rates = np.array(rates_gauss)*0.01\n",
    "normalised_rates\n",
    "\n",
    "plt.figure(figsize=(15,5))\n",
    "plt.plot(np.linspace(0,6, 663),normalised_rates)\n",
    "plt.ylabel('Firing rate (Hz)')\n",
    "plt.xlabel('Time (s)')"
   ]
  },
  {
   "cell_type": "code",
   "execution_count": 254,
   "id": "8970e112",
   "metadata": {},
   "outputs": [
    {
     "data": {
      "text/plain": [
       "6.822044850459211"
      ]
     },
     "execution_count": 254,
     "metadata": {},
     "output_type": "execute_result"
    }
   ],
   "source": [
    "#check for differing means in correct and incorrect trials (t-test, two-tailed [no preference])\n",
    "np.mean(normalised_rates)"
   ]
  },
  {
   "cell_type": "code",
   "execution_count": 262,
   "id": "ab4b16e7",
   "metadata": {},
   "outputs": [],
   "source": [
    "second_trial = data.loc[(data['timestamp'] >= trials.iloc[1].trial_start* time_conversion) &\n",
    "                       (data['timestamp'] < trials.iloc[1].trial_end* time_conversion)]"
   ]
  },
  {
   "cell_type": "code",
   "execution_count": 263,
   "id": "f4cc14b2",
   "metadata": {},
   "outputs": [
    {
     "name": "stderr",
     "output_type": "stream",
     "text": [
      "/tmp/ipykernel_6022/1093380665.py:1: SettingWithCopyWarning: \n",
      "A value is trying to be set on a copy of a slice from a DataFrame.\n",
      "Try using .loc[row_indexer,col_indexer] = value instead\n",
      "\n",
      "See the caveats in the documentation: https://pandas.pydata.org/pandas-docs/stable/user_guide/indexing.html#returning-a-view-versus-a-copy\n",
      "  second_trial['timestamp'] = second_trial['timestamp'].apply(lambda x: x * 1)\n",
      "/tmp/ipykernel_6022/1093380665.py:3: SettingWithCopyWarning: \n",
      "A value is trying to be set on a copy of a slice from a DataFrame.\n",
      "Try using .loc[row_indexer,col_indexer] = value instead\n",
      "\n",
      "See the caveats in the documentation: https://pandas.pydata.org/pandas-docs/stable/user_guide/indexing.html#returning-a-view-versus-a-copy\n",
      "  second_trial['timestamp'] = second_trial['timestamp'].apply(lambda x: x - new_zero)\n"
     ]
    },
    {
     "data": {
      "text/plain": [
       "1871       3.5058\n",
       "1872       6.1972\n",
       "1873       7.3570\n",
       "24825      0.7414\n",
       "24826      1.1998\n",
       "            ...  \n",
       "1056904    6.7419\n",
       "1056905    6.7639\n",
       "1056906    6.7848\n",
       "1056907    6.9790\n",
       "1056908    7.2347\n",
       "Name: timestamp, Length: 1576, dtype: float64"
      ]
     },
     "execution_count": 263,
     "metadata": {},
     "output_type": "execute_result"
    }
   ],
   "source": [
    "second_trial['timestamp'] = second_trial['timestamp'].apply(lambda x: x * 1)\n",
    "new_zero = second_trial['timestamp'].min()\n",
    "second_trial['timestamp'] = second_trial['timestamp'].apply(lambda x: x - new_zero)\n",
    "second_trial['timestamp']"
   ]
  },
  {
   "cell_type": "code",
   "execution_count": 198,
   "id": "b9e5623d",
   "metadata": {},
   "outputs": [],
   "source": [
    "rates_gauss = windowed_signal(second_trial['timestamp'],starting_point=lesser_boundary,\n",
    "                              sampling_rate=0.01,kernel='gaussian',resolution=0.3)"
   ]
  },
  {
   "cell_type": "code",
   "execution_count": 203,
   "id": "39b75b19",
   "metadata": {},
   "outputs": [
    {
     "name": "stdout",
     "output_type": "stream",
     "text": [
      "747 7.461499999999887\n"
     ]
    }
   ],
   "source": [
    "print(len(rates_gauss),second_trial['timestamp'].max() - second_trial['timestamp'].min())"
   ]
  },
  {
   "cell_type": "code",
   "execution_count": 204,
   "id": "e4c58c79",
   "metadata": {},
   "outputs": [
    {
     "data": {
      "text/plain": [
       "Text(0.5, 0, 'Time (s)')"
      ]
     },
     "execution_count": 204,
     "metadata": {},
     "output_type": "execute_result"
    },
    {
     "data": {
      "image/png": "[encoded data removed]",
      "text/plain": [
       "<Figure size 1080x360 with 1 Axes>"
      ]
     },
     "metadata": {
      "needs_background": "light"
     },
     "output_type": "display_data"
    }
   ],
   "source": [
    "normalised_rates = np.array(rates_gauss)*0.01\n",
    "normalised_rates\n",
    "\n",
    "plt.figure(figsize=(15,5))\n",
    "plt.plot(np.linspace(0,7.5, 747),normalised_rates)\n",
    "plt.ylabel('Firing rate (Hz)')\n",
    "plt.xlabel('Time (s)')"
   ]
  },
  {
   "cell_type": "code",
   "execution_count": 205,
   "id": "00385652",
   "metadata": {},
   "outputs": [
    {
     "data": {
      "text/plain": [
       "7.256643474702543"
      ]
     },
     "execution_count": 205,
     "metadata": {},
     "output_type": "execute_result"
    }
   ],
   "source": [
    "#check for differing means in correct and incorrect trials (t-test, two-tailed [no preference])\n",
    "np.mean(normalised_rates)"
   ]
  },
  {
   "cell_type": "code",
   "execution_count": 385,
   "id": "1b8a5c32",
   "metadata": {},
   "outputs": [],
   "source": [
    "learning_trial_number = [23,23,14,5,10,12,5,18,11,8]\n",
    "analyse_trial_session = ['201222','201227','201229','181012','181020',\n",
    "                            '150628','150630','150707','190214','190228']\n",
    "\n",
    "#Zip these two lists so the elements will be paired into tuples (session,trial)\n",
    "learning_events = zip(analyse_trial_session,learning_trial_number)\n",
    "\n",
    "#Convert time from ms to s\n",
    "time_conversion = 0.001\n",
    "\n",
    "#1 second bins for population rate histogram? Seems reasonable\n",
    "binsize = 1\n",
    "\n",
    "#load data for each event\n",
    "#for event in learning_events:\n",
    "\n",
    "#load data, plot rate histogram and rate distributions\n",
    "data = pd.read_table(filepath_or_buffer = 'mPFC_Data/201222/201222_SpikeData.dat',\n",
    "                     header=None,names=['timestamp','cell'],engine = 'python')\n",
    "trials = pd.read_table(filepath_or_buffer = 'mPFC_Data/201222/201222_Behavior.dat',\n",
    "                     header=None,names=['trial_start','trial_end','rule','reward','turn_side',\n",
    "                                       'light_side'],engine = 'python')\n",
    "\n",
    "#%======================================================================="
   ]
  },
  {
   "cell_type": "code",
   "execution_count": 465,
   "id": "2c3f118c",
   "metadata": {},
   "outputs": [],
   "source": [
    "learning_trial_number = [23,23,14,5,10,12,5,18,11,8]\n",
    "analyse_trial_session = ['201222','201227','201229','181012','181020',\n",
    "                            '150628','150630','150707','190214','190228']\n",
    "\n",
    "#Zip these two lists so the elements will be paired into tuples (session,trial)\n",
    "learning_events = zip(analyse_trial_session,learning_trial_number)\n",
    "\n",
    "#Convert time from ms to s\n",
    "time_conversion = 0.001\n",
    "\n",
    "#1 second bins for population rate histogram? Seems reasonable\n",
    "binsize = 1\n",
    "\n",
    "#load data\n",
    "behaviour_dataset = pd.read_table(filepath_or_buffer = 'mPFC_Data/201222/201222_Behavior.dat',\n",
    "                     header=None,names=['trial_start','trial_end','rule','reward','turn_side',\n",
    "                                       'light_side'],engine = 'python') #Behaviour.dat dataset\n",
    "spikes_dataset = pd.read_table(filepath_or_buffer = 'mPFC_Data/201222/201222_SpikeData.dat',\n",
    "                     header=None,names=['timestamp','cell'],engine = 'python') #SpikeData.dat dataset\n",
    "\n",
    "#adjust times\n",
    "spikes_dataset = time_conversion(spikes_dataset,'timestamp') #timestamps now in seconds\n",
    "behaviour_dataset = time_conversion(behaviour_dataset,'trial_start') #trial_start now in seconds\n",
    "behaviour_dataset = time_conversion(behaviour_dataset,'trial_end') #trial_end now in seconds\n",
    "\n",
    "#number of trials and their time boundaries\n",
    "n_trials = number_of_trials(behaviour_dataset)\n",
    "trial_intervals = trials_begin_end(behaviour_dataset)\n",
    "\n",
    "#split the spikes_dataset into separate trials and ITIs\n",
    "trials = separate_into_trials(behaviour_dataset,spikes_dataset)\n",
    "ITIs = build_ITIs(behaviour_dataset,spikes_dataset)"
   ]
  }
 ],
 "metadata": {
  "kernelspec": {
   "display_name": "Python 3 (ipykernel)",
   "language": "python",
   "name": "python3"
  },
  "language_info": {
   "codemirror_mode": {
    "name": "ipython",
    "version": 3
   },
   "file_extension": ".py",
   "mimetype": "text/x-python",
   "name": "python",
   "nbconvert_exporter": "python",
   "pygments_lexer": "ipython3",
   "version": "3.8.10"
  }
 },
 "nbformat": 4,
 "nbformat_minor": 5
}
